{
 "cells": [
  {
   "cell_type": "markdown",
   "metadata": {},
   "source": [
    "# Statement"
   ]
  },
  {
   "cell_type": "markdown",
   "metadata": {},
   "source": [
    "A companhia de seguros Proteja Seu Amanhã quer resolver algumas tarefas com a ajuda de aprendizado de máquina e você precisa avaliar a possibilidade de fazê-lo.\n",
    "\n",
    "- Tarefa 1: Encontrar clientes semelhantes a um determinado cliente. Isso vai ajudar os agentes da empresa com tarefas de marketing.\n",
    "- Tarefa 2: Predizer se um novo cliente provavelmente receberá um pagamento de seguro. Um modelo de predição pode ser melhor do que um modelo dummy?\n",
    "- Tarefa 3: Predizer o número de pagamentos de seguro que um novo cliente provavelmente receberá usando um modelo de regressão linear.\n",
    "- Tarefa 4: Proteger os dados pessoais dos clientes sem estragar o modelo da tarefa anterior. É necessário desenvolver um algoritmo de transformação de dados que tornaria difícil recuperar informações pessoais se os dados caíssem nas mãos erradas. Isso é chamado de mascaramento de dados ou ofuscação de dados. Mas os dados devem ser protegidos de forma que a qualidade dos modelos de aprendizado de máquina não piore. Você não precisa escolher o melhor modelo, só prove que o algoritmo funciona corretamente."
   ]
  },
  {
   "cell_type": "markdown",
   "metadata": {},
   "source": [
    "# Pré-processamento de dados & Exploração\n",
    "\n",
    "## Inicialização"
   ]
  },
  {
   "cell_type": "code",
   "execution_count": 32,
   "metadata": {},
   "outputs": [],
   "source": [
    "import numpy as np\n",
    "import pandas as pd\n",
    "import seaborn as sns\n",
    "import math\n",
    "import sklearn.linear_model\n",
    "import sklearn.metrics\n",
    "import sklearn.neighbors\n",
    "import sklearn.preprocessing\n",
    "from sklearn.model_selection import train_test_split\n",
    "from sklearn.neighbors import KNeighborsClassifier, NearestNeighbors \n",
    "from sklearn.preprocessing import MaxAbsScaler\n",
    "from sklearn.metrics import f1_score\n",
    "from IPython.display import display\n",
    "from sklearn.preprocessing import StandardScaler\n",
    "from sklearn.utils.class_weight import compute_class_weight\n",
    "import matplotlib.pyplot as plt\n",
    "from sklearn.linear_model import LinearRegression\n",
    "from sklearn.metrics import r2_score, mean_squared_error"
   ]
  },
  {
   "cell_type": "markdown",
   "metadata": {},
   "source": [
    "## Carregar Dados"
   ]
  },
  {
   "cell_type": "code",
   "execution_count": 2,
   "metadata": {},
   "outputs": [],
   "source": [
    "df = pd.read_csv('insurance_us.csv')"
   ]
  },
  {
   "cell_type": "code",
   "execution_count": 3,
   "metadata": {},
   "outputs": [],
   "source": [
    "df = df.rename(columns={'Gender': 'gender', 'Age': 'age', 'Salary': 'income', 'Family members': 'family_members', 'Insurance benefits': 'insurance_benefits'})"
   ]
  },
  {
   "cell_type": "code",
   "execution_count": 4,
   "metadata": {},
   "outputs": [
    {
     "data": {
      "text/html": [
       "<div>\n",
       "<style scoped>\n",
       "    .dataframe tbody tr th:only-of-type {\n",
       "        vertical-align: middle;\n",
       "    }\n",
       "\n",
       "    .dataframe tbody tr th {\n",
       "        vertical-align: top;\n",
       "    }\n",
       "\n",
       "    .dataframe thead th {\n",
       "        text-align: right;\n",
       "    }\n",
       "</style>\n",
       "<table border=\"1\" class=\"dataframe\">\n",
       "  <thead>\n",
       "    <tr style=\"text-align: right;\">\n",
       "      <th></th>\n",
       "      <th>Unnamed: 0</th>\n",
       "      <th>gender</th>\n",
       "      <th>age</th>\n",
       "      <th>income</th>\n",
       "      <th>family_members</th>\n",
       "      <th>insurance_benefits</th>\n",
       "    </tr>\n",
       "  </thead>\n",
       "  <tbody>\n",
       "    <tr>\n",
       "      <th>3616</th>\n",
       "      <td>3616</td>\n",
       "      <td>0</td>\n",
       "      <td>26.0</td>\n",
       "      <td>52000.0</td>\n",
       "      <td>0</td>\n",
       "      <td>0</td>\n",
       "    </tr>\n",
       "    <tr>\n",
       "      <th>1256</th>\n",
       "      <td>1256</td>\n",
       "      <td>0</td>\n",
       "      <td>31.0</td>\n",
       "      <td>57000.0</td>\n",
       "      <td>0</td>\n",
       "      <td>0</td>\n",
       "    </tr>\n",
       "    <tr>\n",
       "      <th>1571</th>\n",
       "      <td>1571</td>\n",
       "      <td>1</td>\n",
       "      <td>31.0</td>\n",
       "      <td>43300.0</td>\n",
       "      <td>0</td>\n",
       "      <td>0</td>\n",
       "    </tr>\n",
       "    <tr>\n",
       "      <th>2724</th>\n",
       "      <td>2724</td>\n",
       "      <td>1</td>\n",
       "      <td>22.0</td>\n",
       "      <td>49300.0</td>\n",
       "      <td>2</td>\n",
       "      <td>0</td>\n",
       "    </tr>\n",
       "    <tr>\n",
       "      <th>3027</th>\n",
       "      <td>3027</td>\n",
       "      <td>0</td>\n",
       "      <td>32.0</td>\n",
       "      <td>31000.0</td>\n",
       "      <td>1</td>\n",
       "      <td>0</td>\n",
       "    </tr>\n",
       "    <tr>\n",
       "      <th>434</th>\n",
       "      <td>434</td>\n",
       "      <td>1</td>\n",
       "      <td>32.0</td>\n",
       "      <td>48100.0</td>\n",
       "      <td>2</td>\n",
       "      <td>0</td>\n",
       "    </tr>\n",
       "    <tr>\n",
       "      <th>3320</th>\n",
       "      <td>3320</td>\n",
       "      <td>0</td>\n",
       "      <td>19.0</td>\n",
       "      <td>35000.0</td>\n",
       "      <td>6</td>\n",
       "      <td>0</td>\n",
       "    </tr>\n",
       "    <tr>\n",
       "      <th>559</th>\n",
       "      <td>559</td>\n",
       "      <td>1</td>\n",
       "      <td>46.0</td>\n",
       "      <td>58100.0</td>\n",
       "      <td>0</td>\n",
       "      <td>1</td>\n",
       "    </tr>\n",
       "    <tr>\n",
       "      <th>4465</th>\n",
       "      <td>4465</td>\n",
       "      <td>1</td>\n",
       "      <td>26.0</td>\n",
       "      <td>46200.0</td>\n",
       "      <td>0</td>\n",
       "      <td>0</td>\n",
       "    </tr>\n",
       "    <tr>\n",
       "      <th>2642</th>\n",
       "      <td>2642</td>\n",
       "      <td>1</td>\n",
       "      <td>36.0</td>\n",
       "      <td>36500.0</td>\n",
       "      <td>2</td>\n",
       "      <td>0</td>\n",
       "    </tr>\n",
       "  </tbody>\n",
       "</table>\n",
       "</div>"
      ],
      "text/plain": [
       "      Unnamed: 0  gender   age   income  family_members  insurance_benefits\n",
       "3616        3616       0  26.0  52000.0               0                   0\n",
       "1256        1256       0  31.0  57000.0               0                   0\n",
       "1571        1571       1  31.0  43300.0               0                   0\n",
       "2724        2724       1  22.0  49300.0               2                   0\n",
       "3027        3027       0  32.0  31000.0               1                   0\n",
       "434          434       1  32.0  48100.0               2                   0\n",
       "3320        3320       0  19.0  35000.0               6                   0\n",
       "559          559       1  46.0  58100.0               0                   1\n",
       "4465        4465       1  26.0  46200.0               0                   0\n",
       "2642        2642       1  36.0  36500.0               2                   0"
      ]
     },
     "execution_count": 4,
     "metadata": {},
     "output_type": "execute_result"
    }
   ],
   "source": [
    "df.sample(10)"
   ]
  },
  {
   "cell_type": "code",
   "execution_count": 5,
   "metadata": {},
   "outputs": [
    {
     "name": "stdout",
     "output_type": "stream",
     "text": [
      "<class 'pandas.core.frame.DataFrame'>\n",
      "RangeIndex: 5000 entries, 0 to 4999\n",
      "Data columns (total 6 columns):\n",
      " #   Column              Non-Null Count  Dtype  \n",
      "---  ------              --------------  -----  \n",
      " 0   Unnamed: 0          5000 non-null   int64  \n",
      " 1   gender              5000 non-null   int64  \n",
      " 2   age                 5000 non-null   float64\n",
      " 3   income              5000 non-null   float64\n",
      " 4   family_members      5000 non-null   int64  \n",
      " 5   insurance_benefits  5000 non-null   int64  \n",
      "dtypes: float64(2), int64(4)\n",
      "memory usage: 234.5 KB\n"
     ]
    }
   ],
   "source": [
    "df.info()"
   ]
  },
  {
   "cell_type": "code",
   "execution_count": 6,
   "metadata": {},
   "outputs": [
    {
     "name": "stdout",
     "output_type": "stream",
     "text": [
      "<class 'pandas.core.frame.DataFrame'>\n",
      "RangeIndex: 5000 entries, 0 to 4999\n",
      "Data columns (total 6 columns):\n",
      " #   Column              Non-Null Count  Dtype  \n",
      "---  ------              --------------  -----  \n",
      " 0   Unnamed: 0          5000 non-null   int64  \n",
      " 1   gender              5000 non-null   int64  \n",
      " 2   age                 5000 non-null   float64\n",
      " 3   income              5000 non-null   float64\n",
      " 4   family_members      5000 non-null   int64  \n",
      " 5   insurance_benefits  5000 non-null   int64  \n",
      "dtypes: float64(2), int64(4)\n",
      "memory usage: 234.5 KB\n"
     ]
    }
   ],
   "source": [
    "df.info()\n",
    "# Conversão de float para int em \"age\"\n",
    "df['age'] = df['age'].astype(int)"
   ]
  },
  {
   "cell_type": "code",
   "execution_count": 7,
   "metadata": {},
   "outputs": [
    {
     "name": "stdout",
     "output_type": "stream",
     "text": [
      "<class 'pandas.core.frame.DataFrame'>\n",
      "RangeIndex: 5000 entries, 0 to 4999\n",
      "Data columns (total 6 columns):\n",
      " #   Column              Non-Null Count  Dtype  \n",
      "---  ------              --------------  -----  \n",
      " 0   Unnamed: 0          5000 non-null   int64  \n",
      " 1   gender              5000 non-null   int64  \n",
      " 2   age                 5000 non-null   int32  \n",
      " 3   income              5000 non-null   float64\n",
      " 4   family_members      5000 non-null   int64  \n",
      " 5   insurance_benefits  5000 non-null   int64  \n",
      "dtypes: float64(1), int32(1), int64(4)\n",
      "memory usage: 215.0 KB\n"
     ]
    }
   ],
   "source": [
    "df.info()"
   ]
  },
  {
   "cell_type": "code",
   "execution_count": 8,
   "metadata": {},
   "outputs": [
    {
     "data": {
      "text/html": [
       "<div>\n",
       "<style scoped>\n",
       "    .dataframe tbody tr th:only-of-type {\n",
       "        vertical-align: middle;\n",
       "    }\n",
       "\n",
       "    .dataframe tbody tr th {\n",
       "        vertical-align: top;\n",
       "    }\n",
       "\n",
       "    .dataframe thead th {\n",
       "        text-align: right;\n",
       "    }\n",
       "</style>\n",
       "<table border=\"1\" class=\"dataframe\">\n",
       "  <thead>\n",
       "    <tr style=\"text-align: right;\">\n",
       "      <th></th>\n",
       "      <th>Unnamed: 0</th>\n",
       "      <th>gender</th>\n",
       "      <th>age</th>\n",
       "      <th>income</th>\n",
       "      <th>family_members</th>\n",
       "      <th>insurance_benefits</th>\n",
       "    </tr>\n",
       "  </thead>\n",
       "  <tbody>\n",
       "    <tr>\n",
       "      <th>count</th>\n",
       "      <td>5000.000000</td>\n",
       "      <td>5000.000000</td>\n",
       "      <td>5000.000000</td>\n",
       "      <td>5000.000000</td>\n",
       "      <td>5000.000000</td>\n",
       "      <td>5000.000000</td>\n",
       "    </tr>\n",
       "    <tr>\n",
       "      <th>mean</th>\n",
       "      <td>2499.500000</td>\n",
       "      <td>0.499000</td>\n",
       "      <td>30.952800</td>\n",
       "      <td>39916.360000</td>\n",
       "      <td>1.194200</td>\n",
       "      <td>0.148000</td>\n",
       "    </tr>\n",
       "    <tr>\n",
       "      <th>std</th>\n",
       "      <td>1443.520003</td>\n",
       "      <td>0.500049</td>\n",
       "      <td>8.440807</td>\n",
       "      <td>9900.083569</td>\n",
       "      <td>1.091387</td>\n",
       "      <td>0.463183</td>\n",
       "    </tr>\n",
       "    <tr>\n",
       "      <th>min</th>\n",
       "      <td>0.000000</td>\n",
       "      <td>0.000000</td>\n",
       "      <td>18.000000</td>\n",
       "      <td>5300.000000</td>\n",
       "      <td>0.000000</td>\n",
       "      <td>0.000000</td>\n",
       "    </tr>\n",
       "    <tr>\n",
       "      <th>25%</th>\n",
       "      <td>1249.750000</td>\n",
       "      <td>0.000000</td>\n",
       "      <td>24.000000</td>\n",
       "      <td>33300.000000</td>\n",
       "      <td>0.000000</td>\n",
       "      <td>0.000000</td>\n",
       "    </tr>\n",
       "    <tr>\n",
       "      <th>50%</th>\n",
       "      <td>2499.500000</td>\n",
       "      <td>0.000000</td>\n",
       "      <td>30.000000</td>\n",
       "      <td>40200.000000</td>\n",
       "      <td>1.000000</td>\n",
       "      <td>0.000000</td>\n",
       "    </tr>\n",
       "    <tr>\n",
       "      <th>75%</th>\n",
       "      <td>3749.250000</td>\n",
       "      <td>1.000000</td>\n",
       "      <td>37.000000</td>\n",
       "      <td>46600.000000</td>\n",
       "      <td>2.000000</td>\n",
       "      <td>0.000000</td>\n",
       "    </tr>\n",
       "    <tr>\n",
       "      <th>max</th>\n",
       "      <td>4999.000000</td>\n",
       "      <td>1.000000</td>\n",
       "      <td>65.000000</td>\n",
       "      <td>79000.000000</td>\n",
       "      <td>6.000000</td>\n",
       "      <td>5.000000</td>\n",
       "    </tr>\n",
       "  </tbody>\n",
       "</table>\n",
       "</div>"
      ],
      "text/plain": [
       "        Unnamed: 0       gender          age        income  family_members  \\\n",
       "count  5000.000000  5000.000000  5000.000000   5000.000000     5000.000000   \n",
       "mean   2499.500000     0.499000    30.952800  39916.360000        1.194200   \n",
       "std    1443.520003     0.500049     8.440807   9900.083569        1.091387   \n",
       "min       0.000000     0.000000    18.000000   5300.000000        0.000000   \n",
       "25%    1249.750000     0.000000    24.000000  33300.000000        0.000000   \n",
       "50%    2499.500000     0.000000    30.000000  40200.000000        1.000000   \n",
       "75%    3749.250000     1.000000    37.000000  46600.000000        2.000000   \n",
       "max    4999.000000     1.000000    65.000000  79000.000000        6.000000   \n",
       "\n",
       "       insurance_benefits  \n",
       "count         5000.000000  \n",
       "mean             0.148000  \n",
       "std              0.463183  \n",
       "min              0.000000  \n",
       "25%              0.000000  \n",
       "50%              0.000000  \n",
       "75%              0.000000  \n",
       "max              5.000000  "
      ]
     },
     "execution_count": 8,
     "metadata": {},
     "output_type": "execute_result"
    }
   ],
   "source": [
    "df.describe()"
   ]
  },
  {
   "cell_type": "markdown",
   "metadata": {},
   "source": [
    "## AED"
   ]
  },
  {
   "cell_type": "markdown",
   "metadata": {},
   "source": [
    "Verificando rapidamente se existem determinados grupos de clientes observando o gráfico de pares."
   ]
  },
  {
   "cell_type": "code",
   "execution_count": 9,
   "metadata": {},
   "outputs": [
    {
     "name": "stderr",
     "output_type": "stream",
     "text": [
      "C:\\Users\\DANIEL\\anaconda3\\envs\\DatScience\\lib\\site-packages\\seaborn\\_oldcore.py:1119: FutureWarning: use_inf_as_na option is deprecated and will be removed in a future version. Convert inf values to NaN before operating instead.\n",
      "  with pd.option_context('mode.use_inf_as_na', True):\n",
      "C:\\Users\\DANIEL\\anaconda3\\envs\\DatScience\\lib\\site-packages\\seaborn\\_oldcore.py:1119: FutureWarning: use_inf_as_na option is deprecated and will be removed in a future version. Convert inf values to NaN before operating instead.\n",
      "  with pd.option_context('mode.use_inf_as_na', True):\n",
      "C:\\Users\\DANIEL\\anaconda3\\envs\\DatScience\\lib\\site-packages\\seaborn\\_oldcore.py:1119: FutureWarning: use_inf_as_na option is deprecated and will be removed in a future version. Convert inf values to NaN before operating instead.\n",
      "  with pd.option_context('mode.use_inf_as_na', True):\n",
      "C:\\Users\\DANIEL\\anaconda3\\envs\\DatScience\\lib\\site-packages\\seaborn\\_oldcore.py:1119: FutureWarning: use_inf_as_na option is deprecated and will be removed in a future version. Convert inf values to NaN before operating instead.\n",
      "  with pd.option_context('mode.use_inf_as_na', True):\n",
      "C:\\Users\\DANIEL\\anaconda3\\envs\\DatScience\\lib\\site-packages\\seaborn\\_oldcore.py:1119: FutureWarning: use_inf_as_na option is deprecated and will be removed in a future version. Convert inf values to NaN before operating instead.\n",
      "  with pd.option_context('mode.use_inf_as_na', True):\n",
      "C:\\Users\\DANIEL\\anaconda3\\envs\\DatScience\\lib\\site-packages\\seaborn\\_oldcore.py:1119: FutureWarning: use_inf_as_na option is deprecated and will be removed in a future version. Convert inf values to NaN before operating instead.\n",
      "  with pd.option_context('mode.use_inf_as_na', True):\n",
      "C:\\Users\\DANIEL\\anaconda3\\envs\\DatScience\\lib\\site-packages\\seaborn\\_oldcore.py:1119: FutureWarning: use_inf_as_na option is deprecated and will be removed in a future version. Convert inf values to NaN before operating instead.\n",
      "  with pd.option_context('mode.use_inf_as_na', True):\n",
      "C:\\Users\\DANIEL\\anaconda3\\envs\\DatScience\\lib\\site-packages\\seaborn\\_oldcore.py:1119: FutureWarning: use_inf_as_na option is deprecated and will be removed in a future version. Convert inf values to NaN before operating instead.\n",
      "  with pd.option_context('mode.use_inf_as_na', True):\n",
      "C:\\Users\\DANIEL\\anaconda3\\envs\\DatScience\\lib\\site-packages\\seaborn\\_oldcore.py:1119: FutureWarning: use_inf_as_na option is deprecated and will be removed in a future version. Convert inf values to NaN before operating instead.\n",
      "  with pd.option_context('mode.use_inf_as_na', True):\n",
      "C:\\Users\\DANIEL\\anaconda3\\envs\\DatScience\\lib\\site-packages\\seaborn\\_oldcore.py:1119: FutureWarning: use_inf_as_na option is deprecated and will be removed in a future version. Convert inf values to NaN before operating instead.\n",
      "  with pd.option_context('mode.use_inf_as_na', True):\n",
      "C:\\Users\\DANIEL\\anaconda3\\envs\\DatScience\\lib\\site-packages\\seaborn\\_oldcore.py:1119: FutureWarning: use_inf_as_na option is deprecated and will be removed in a future version. Convert inf values to NaN before operating instead.\n",
      "  with pd.option_context('mode.use_inf_as_na', True):\n",
      "C:\\Users\\DANIEL\\anaconda3\\envs\\DatScience\\lib\\site-packages\\seaborn\\_oldcore.py:1119: FutureWarning: use_inf_as_na option is deprecated and will be removed in a future version. Convert inf values to NaN before operating instead.\n",
      "  with pd.option_context('mode.use_inf_as_na', True):\n",
      "C:\\Users\\DANIEL\\anaconda3\\envs\\DatScience\\lib\\site-packages\\seaborn\\_oldcore.py:1119: FutureWarning: use_inf_as_na option is deprecated and will be removed in a future version. Convert inf values to NaN before operating instead.\n",
      "  with pd.option_context('mode.use_inf_as_na', True):\n",
      "C:\\Users\\DANIEL\\anaconda3\\envs\\DatScience\\lib\\site-packages\\seaborn\\_oldcore.py:1119: FutureWarning: use_inf_as_na option is deprecated and will be removed in a future version. Convert inf values to NaN before operating instead.\n",
      "  with pd.option_context('mode.use_inf_as_na', True):\n",
      "C:\\Users\\DANIEL\\anaconda3\\envs\\DatScience\\lib\\site-packages\\seaborn\\_oldcore.py:1119: FutureWarning: use_inf_as_na option is deprecated and will be removed in a future version. Convert inf values to NaN before operating instead.\n",
      "  with pd.option_context('mode.use_inf_as_na', True):\n",
      "C:\\Users\\DANIEL\\anaconda3\\envs\\DatScience\\lib\\site-packages\\seaborn\\_oldcore.py:1119: FutureWarning: use_inf_as_na option is deprecated and will be removed in a future version. Convert inf values to NaN before operating instead.\n",
      "  with pd.option_context('mode.use_inf_as_na', True):\n",
      "C:\\Users\\DANIEL\\anaconda3\\envs\\DatScience\\lib\\site-packages\\seaborn\\_oldcore.py:1119: FutureWarning: use_inf_as_na option is deprecated and will be removed in a future version. Convert inf values to NaN before operating instead.\n",
      "  with pd.option_context('mode.use_inf_as_na', True):\n",
      "C:\\Users\\DANIEL\\anaconda3\\envs\\DatScience\\lib\\site-packages\\seaborn\\_oldcore.py:1119: FutureWarning: use_inf_as_na option is deprecated and will be removed in a future version. Convert inf values to NaN before operating instead.\n",
      "  with pd.option_context('mode.use_inf_as_na', True):\n",
      "C:\\Users\\DANIEL\\anaconda3\\envs\\DatScience\\lib\\site-packages\\seaborn\\_oldcore.py:1119: FutureWarning: use_inf_as_na option is deprecated and will be removed in a future version. Convert inf values to NaN before operating instead.\n",
      "  with pd.option_context('mode.use_inf_as_na', True):\n",
      "C:\\Users\\DANIEL\\anaconda3\\envs\\DatScience\\lib\\site-packages\\seaborn\\_oldcore.py:1119: FutureWarning: use_inf_as_na option is deprecated and will be removed in a future version. Convert inf values to NaN before operating instead.\n",
      "  with pd.option_context('mode.use_inf_as_na', True):\n",
      "C:\\Users\\DANIEL\\anaconda3\\envs\\DatScience\\lib\\site-packages\\seaborn\\_oldcore.py:1119: FutureWarning: use_inf_as_na option is deprecated and will be removed in a future version. Convert inf values to NaN before operating instead.\n",
      "  with pd.option_context('mode.use_inf_as_na', True):\n",
      "C:\\Users\\DANIEL\\anaconda3\\envs\\DatScience\\lib\\site-packages\\seaborn\\_oldcore.py:1119: FutureWarning: use_inf_as_na option is deprecated and will be removed in a future version. Convert inf values to NaN before operating instead.\n",
      "  with pd.option_context('mode.use_inf_as_na', True):\n",
      "C:\\Users\\DANIEL\\anaconda3\\envs\\DatScience\\lib\\site-packages\\seaborn\\_oldcore.py:1119: FutureWarning: use_inf_as_na option is deprecated and will be removed in a future version. Convert inf values to NaN before operating instead.\n",
      "  with pd.option_context('mode.use_inf_as_na', True):\n",
      "C:\\Users\\DANIEL\\anaconda3\\envs\\DatScience\\lib\\site-packages\\seaborn\\_oldcore.py:1119: FutureWarning: use_inf_as_na option is deprecated and will be removed in a future version. Convert inf values to NaN before operating instead.\n",
      "  with pd.option_context('mode.use_inf_as_na', True):\n",
      "C:\\Users\\DANIEL\\anaconda3\\envs\\DatScience\\lib\\site-packages\\seaborn\\_oldcore.py:1119: FutureWarning: use_inf_as_na option is deprecated and will be removed in a future version. Convert inf values to NaN before operating instead.\n",
      "  with pd.option_context('mode.use_inf_as_na', True):\n",
      "C:\\Users\\DANIEL\\anaconda3\\envs\\DatScience\\lib\\site-packages\\seaborn\\_oldcore.py:1119: FutureWarning: use_inf_as_na option is deprecated and will be removed in a future version. Convert inf values to NaN before operating instead.\n",
      "  with pd.option_context('mode.use_inf_as_na', True):\n",
      "C:\\Users\\DANIEL\\anaconda3\\envs\\DatScience\\lib\\site-packages\\seaborn\\_oldcore.py:1119: FutureWarning: use_inf_as_na option is deprecated and will be removed in a future version. Convert inf values to NaN before operating instead.\n",
      "  with pd.option_context('mode.use_inf_as_na', True):\n",
      "C:\\Users\\DANIEL\\anaconda3\\envs\\DatScience\\lib\\site-packages\\seaborn\\_oldcore.py:1119: FutureWarning: use_inf_as_na option is deprecated and will be removed in a future version. Convert inf values to NaN before operating instead.\n",
      "  with pd.option_context('mode.use_inf_as_na', True):\n",
      "C:\\Users\\DANIEL\\anaconda3\\envs\\DatScience\\lib\\site-packages\\seaborn\\_oldcore.py:1119: FutureWarning: use_inf_as_na option is deprecated and will be removed in a future version. Convert inf values to NaN before operating instead.\n",
      "  with pd.option_context('mode.use_inf_as_na', True):\n",
      "C:\\Users\\DANIEL\\anaconda3\\envs\\DatScience\\lib\\site-packages\\seaborn\\_oldcore.py:1119: FutureWarning: use_inf_as_na option is deprecated and will be removed in a future version. Convert inf values to NaN before operating instead.\n",
      "  with pd.option_context('mode.use_inf_as_na', True):\n",
      "C:\\Users\\DANIEL\\anaconda3\\envs\\DatScience\\lib\\site-packages\\seaborn\\_oldcore.py:1119: FutureWarning: use_inf_as_na option is deprecated and will be removed in a future version. Convert inf values to NaN before operating instead.\n",
      "  with pd.option_context('mode.use_inf_as_na', True):\n",
      "C:\\Users\\DANIEL\\anaconda3\\envs\\DatScience\\lib\\site-packages\\seaborn\\_oldcore.py:1119: FutureWarning: use_inf_as_na option is deprecated and will be removed in a future version. Convert inf values to NaN before operating instead.\n",
      "  with pd.option_context('mode.use_inf_as_na', True):\n",
      "C:\\Users\\DANIEL\\anaconda3\\envs\\DatScience\\lib\\site-packages\\seaborn\\_oldcore.py:1119: FutureWarning: use_inf_as_na option is deprecated and will be removed in a future version. Convert inf values to NaN before operating instead.\n",
      "  with pd.option_context('mode.use_inf_as_na', True):\n",
      "C:\\Users\\DANIEL\\anaconda3\\envs\\DatScience\\lib\\site-packages\\seaborn\\_oldcore.py:1119: FutureWarning: use_inf_as_na option is deprecated and will be removed in a future version. Convert inf values to NaN before operating instead.\n",
      "  with pd.option_context('mode.use_inf_as_na', True):\n",
      "C:\\Users\\DANIEL\\anaconda3\\envs\\DatScience\\lib\\site-packages\\seaborn\\_oldcore.py:1119: FutureWarning: use_inf_as_na option is deprecated and will be removed in a future version. Convert inf values to NaN before operating instead.\n",
      "  with pd.option_context('mode.use_inf_as_na', True):\n",
      "C:\\Users\\DANIEL\\anaconda3\\envs\\DatScience\\lib\\site-packages\\seaborn\\_oldcore.py:1119: FutureWarning: use_inf_as_na option is deprecated and will be removed in a future version. Convert inf values to NaN before operating instead.\n",
      "  with pd.option_context('mode.use_inf_as_na', True):\n",
      "C:\\Users\\DANIEL\\anaconda3\\envs\\DatScience\\lib\\site-packages\\seaborn\\_oldcore.py:1119: FutureWarning: use_inf_as_na option is deprecated and will be removed in a future version. Convert inf values to NaN before operating instead.\n",
      "  with pd.option_context('mode.use_inf_as_na', True):\n",
      "C:\\Users\\DANIEL\\anaconda3\\envs\\DatScience\\lib\\site-packages\\seaborn\\_oldcore.py:1119: FutureWarning: use_inf_as_na option is deprecated and will be removed in a future version. Convert inf values to NaN before operating instead.\n",
      "  with pd.option_context('mode.use_inf_as_na', True):\n",
      "C:\\Users\\DANIEL\\anaconda3\\envs\\DatScience\\lib\\site-packages\\seaborn\\_oldcore.py:1119: FutureWarning: use_inf_as_na option is deprecated and will be removed in a future version. Convert inf values to NaN before operating instead.\n",
      "  with pd.option_context('mode.use_inf_as_na', True):\n",
      "C:\\Users\\DANIEL\\anaconda3\\envs\\DatScience\\lib\\site-packages\\seaborn\\_oldcore.py:1119: FutureWarning: use_inf_as_na option is deprecated and will be removed in a future version. Convert inf values to NaN before operating instead.\n",
      "  with pd.option_context('mode.use_inf_as_na', True):\n",
      "C:\\Users\\DANIEL\\anaconda3\\envs\\DatScience\\lib\\site-packages\\seaborn\\_oldcore.py:1119: FutureWarning: use_inf_as_na option is deprecated and will be removed in a future version. Convert inf values to NaN before operating instead.\n",
      "  with pd.option_context('mode.use_inf_as_na', True):\n",
      "C:\\Users\\DANIEL\\anaconda3\\envs\\DatScience\\lib\\site-packages\\seaborn\\_oldcore.py:1119: FutureWarning: use_inf_as_na option is deprecated and will be removed in a future version. Convert inf values to NaN before operating instead.\n",
      "  with pd.option_context('mode.use_inf_as_na', True):\n",
      "C:\\Users\\DANIEL\\anaconda3\\envs\\DatScience\\lib\\site-packages\\seaborn\\_oldcore.py:1119: FutureWarning: use_inf_as_na option is deprecated and will be removed in a future version. Convert inf values to NaN before operating instead.\n",
      "  with pd.option_context('mode.use_inf_as_na', True):\n",
      "C:\\Users\\DANIEL\\anaconda3\\envs\\DatScience\\lib\\site-packages\\seaborn\\_oldcore.py:1119: FutureWarning: use_inf_as_na option is deprecated and will be removed in a future version. Convert inf values to NaN before operating instead.\n",
      "  with pd.option_context('mode.use_inf_as_na', True):\n",
      "C:\\Users\\DANIEL\\anaconda3\\envs\\DatScience\\lib\\site-packages\\seaborn\\_oldcore.py:1119: FutureWarning: use_inf_as_na option is deprecated and will be removed in a future version. Convert inf values to NaN before operating instead.\n",
      "  with pd.option_context('mode.use_inf_as_na', True):\n",
      "C:\\Users\\DANIEL\\anaconda3\\envs\\DatScience\\lib\\site-packages\\seaborn\\_oldcore.py:1119: FutureWarning: use_inf_as_na option is deprecated and will be removed in a future version. Convert inf values to NaN before operating instead.\n",
      "  with pd.option_context('mode.use_inf_as_na', True):\n",
      "C:\\Users\\DANIEL\\anaconda3\\envs\\DatScience\\lib\\site-packages\\seaborn\\_oldcore.py:1119: FutureWarning: use_inf_as_na option is deprecated and will be removed in a future version. Convert inf values to NaN before operating instead.\n",
      "  with pd.option_context('mode.use_inf_as_na', True):\n",
      "C:\\Users\\DANIEL\\anaconda3\\envs\\DatScience\\lib\\site-packages\\seaborn\\_oldcore.py:1119: FutureWarning: use_inf_as_na option is deprecated and will be removed in a future version. Convert inf values to NaN before operating instead.\n",
      "  with pd.option_context('mode.use_inf_as_na', True):\n",
      "C:\\Users\\DANIEL\\anaconda3\\envs\\DatScience\\lib\\site-packages\\seaborn\\_oldcore.py:1119: FutureWarning: use_inf_as_na option is deprecated and will be removed in a future version. Convert inf values to NaN before operating instead.\n",
      "  with pd.option_context('mode.use_inf_as_na', True):\n",
      "C:\\Users\\DANIEL\\anaconda3\\envs\\DatScience\\lib\\site-packages\\seaborn\\_oldcore.py:1119: FutureWarning: use_inf_as_na option is deprecated and will be removed in a future version. Convert inf values to NaN before operating instead.\n",
      "  with pd.option_context('mode.use_inf_as_na', True):\n",
      "C:\\Users\\DANIEL\\anaconda3\\envs\\DatScience\\lib\\site-packages\\seaborn\\_oldcore.py:1119: FutureWarning: use_inf_as_na option is deprecated and will be removed in a future version. Convert inf values to NaN before operating instead.\n",
      "  with pd.option_context('mode.use_inf_as_na', True):\n",
      "C:\\Users\\DANIEL\\anaconda3\\envs\\DatScience\\lib\\site-packages\\seaborn\\_oldcore.py:1119: FutureWarning: use_inf_as_na option is deprecated and will be removed in a future version. Convert inf values to NaN before operating instead.\n",
      "  with pd.option_context('mode.use_inf_as_na', True):\n",
      "C:\\Users\\DANIEL\\anaconda3\\envs\\DatScience\\lib\\site-packages\\seaborn\\_oldcore.py:1119: FutureWarning: use_inf_as_na option is deprecated and will be removed in a future version. Convert inf values to NaN before operating instead.\n",
      "  with pd.option_context('mode.use_inf_as_na', True):\n",
      "C:\\Users\\DANIEL\\anaconda3\\envs\\DatScience\\lib\\site-packages\\seaborn\\_oldcore.py:1119: FutureWarning: use_inf_as_na option is deprecated and will be removed in a future version. Convert inf values to NaN before operating instead.\n",
      "  with pd.option_context('mode.use_inf_as_na', True):\n",
      "C:\\Users\\DANIEL\\anaconda3\\envs\\DatScience\\lib\\site-packages\\seaborn\\_oldcore.py:1119: FutureWarning: use_inf_as_na option is deprecated and will be removed in a future version. Convert inf values to NaN before operating instead.\n",
      "  with pd.option_context('mode.use_inf_as_na', True):\n",
      "C:\\Users\\DANIEL\\anaconda3\\envs\\DatScience\\lib\\site-packages\\seaborn\\_oldcore.py:1119: FutureWarning: use_inf_as_na option is deprecated and will be removed in a future version. Convert inf values to NaN before operating instead.\n",
      "  with pd.option_context('mode.use_inf_as_na', True):\n",
      "C:\\Users\\DANIEL\\anaconda3\\envs\\DatScience\\lib\\site-packages\\seaborn\\_oldcore.py:1119: FutureWarning: use_inf_as_na option is deprecated and will be removed in a future version. Convert inf values to NaN before operating instead.\n",
      "  with pd.option_context('mode.use_inf_as_na', True):\n",
      "C:\\Users\\DANIEL\\anaconda3\\envs\\DatScience\\lib\\site-packages\\seaborn\\_oldcore.py:1119: FutureWarning: use_inf_as_na option is deprecated and will be removed in a future version. Convert inf values to NaN before operating instead.\n",
      "  with pd.option_context('mode.use_inf_as_na', True):\n",
      "C:\\Users\\DANIEL\\anaconda3\\envs\\DatScience\\lib\\site-packages\\seaborn\\_oldcore.py:1119: FutureWarning: use_inf_as_na option is deprecated and will be removed in a future version. Convert inf values to NaN before operating instead.\n",
      "  with pd.option_context('mode.use_inf_as_na', True):\n",
      "C:\\Users\\DANIEL\\anaconda3\\envs\\DatScience\\lib\\site-packages\\seaborn\\_oldcore.py:1119: FutureWarning: use_inf_as_na option is deprecated and will be removed in a future version. Convert inf values to NaN before operating instead.\n",
      "  with pd.option_context('mode.use_inf_as_na', True):\n",
      "C:\\Users\\DANIEL\\anaconda3\\envs\\DatScience\\lib\\site-packages\\seaborn\\_oldcore.py:1119: FutureWarning: use_inf_as_na option is deprecated and will be removed in a future version. Convert inf values to NaN before operating instead.\n",
      "  with pd.option_context('mode.use_inf_as_na', True):\n",
      "C:\\Users\\DANIEL\\anaconda3\\envs\\DatScience\\lib\\site-packages\\seaborn\\_oldcore.py:1119: FutureWarning: use_inf_as_na option is deprecated and will be removed in a future version. Convert inf values to NaN before operating instead.\n",
      "  with pd.option_context('mode.use_inf_as_na', True):\n",
      "C:\\Users\\DANIEL\\anaconda3\\envs\\DatScience\\lib\\site-packages\\seaborn\\_oldcore.py:1119: FutureWarning: use_inf_as_na option is deprecated and will be removed in a future version. Convert inf values to NaN before operating instead.\n",
      "  with pd.option_context('mode.use_inf_as_na', True):\n",
      "C:\\Users\\DANIEL\\anaconda3\\envs\\DatScience\\lib\\site-packages\\seaborn\\_oldcore.py:1119: FutureWarning: use_inf_as_na option is deprecated and will be removed in a future version. Convert inf values to NaN before operating instead.\n",
      "  with pd.option_context('mode.use_inf_as_na', True):\n",
      "C:\\Users\\DANIEL\\anaconda3\\envs\\DatScience\\lib\\site-packages\\seaborn\\_oldcore.py:1119: FutureWarning: use_inf_as_na option is deprecated and will be removed in a future version. Convert inf values to NaN before operating instead.\n",
      "  with pd.option_context('mode.use_inf_as_na', True):\n",
      "C:\\Users\\DANIEL\\anaconda3\\envs\\DatScience\\lib\\site-packages\\seaborn\\_oldcore.py:1119: FutureWarning: use_inf_as_na option is deprecated and will be removed in a future version. Convert inf values to NaN before operating instead.\n",
      "  with pd.option_context('mode.use_inf_as_na', True):\n"
     ]
    },
    {
     "data": {
      "image/png": "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",
      "text/plain": [
       "<Figure size 1200x1200 with 42 Axes>"
      ]
     },
     "metadata": {},
     "output_type": "display_data"
    }
   ],
   "source": [
    "g = sns.pairplot(df, kind='hist')\n",
    "g.fig.set_size_inches(12, 12)"
   ]
  },
  {
   "cell_type": "markdown",
   "metadata": {},
   "source": [
    "Ok, é um pouco difícil identificar grupos óbvios (clusters) porque é desafiador combinar várias variáveis simultaneamente (para analisar distribuições multivariadas). Com o que foi ensinado, irei utilizar álgebra linear e a construção de modelos de Machine Learning."
   ]
  },
  {
   "cell_type": "markdown",
   "metadata": {},
   "source": [
    "# Tarefa 1. Clientes Similares"
   ]
  },
  {
   "cell_type": "markdown",
   "metadata": {},
   "source": [
    "Na linguagem de AM, é necessário desenvolver um procedimento que retorne k vizinhos mais próximos (objetos) para um determinado objeto com base na distância entre os objetos.\n",
    "Você pode querer rever as seguintes lições (capítulo -> lição)- Distância Entre Vetores -> Distância Euclidiana\n",
    "- Distância Entre Vetores -> Distância de Manhattan\n",
    "\n",
    "Para resolver a tarefa, podemos tentar diferentes métricas de distância."
   ]
  },
  {
   "cell_type": "markdown",
   "metadata": {},
   "source": [
    "Escreva uma função que retorne k vizinhos mais próximos para um n-ésimo objeto com base em uma métrica de distância especificada. O número de pagamentos de seguro recebidos não deve ser levado em consideração para esta tarefa. \n",
    "\n",
    "Você pode usar uma implementação pronta do algoritmo kNN do scikit-learn (verifique [o link](https://scikit-learn.org/stable/modules/generated/sklearn.neighbors.NearestNeighbors.html#sklearn.neighbors.NearestNeighbors)) ou usar a sua própria.\n",
    "Teste-o para quatro combinações de dois casos\n",
    "- Escalabilidade\n",
    "  - os dados não são escalados\n",
    "  - os dados escalados com o escalonador [MaxAbsScaler](https://scikit-learn.org/stable/modules/generated/sklearn.preprocessing.MaxAbsScaler.html) \n",
    "- Métricas de distância\n",
    "  - Euclidiana\n",
    "  - Manhattan\n",
    "\n",
    "Responda às perguntas:\n",
    "- Os dados não escalados afetam o algoritmo kNN? Se sim, como isso acontece?\n",
    "-Quão semelhantes são os resultados usando a métrica de distância de Manhattan (independentemente da escalabilidade)?"
   ]
  },
  {
   "cell_type": "code",
   "execution_count": 10,
   "metadata": {},
   "outputs": [],
   "source": [
    "feature_names = ['gender', 'age', 'income', 'family_members']"
   ]
  },
  {
   "cell_type": "code",
   "execution_count": 11,
   "metadata": {},
   "outputs": [],
   "source": [
    "def get_knn(df, n, metric, feature_names, k=5):\n",
    "    \"\"\"\n",
    "    Retorna os k vizinhos mais próximos do objeto de índice n com base em uma métrica de distância especificada.\n",
    "\n",
    "    :param df: DataFrame pandas usado para encontrar objetos semelhantes\n",
    "    :param n: índice do objeto pelo qual os vizinhos mais próximos são procurados\n",
    "    :param metric: nome da métrica de distância\n",
    "    :param feature_names: lista de nomes das colunas usadas como características\n",
    "    :param k: o número de vizinhos mais próximos a serem retornados (padrão: 5)\n",
    "    \"\"\"\n",
    "\n",
    "    nbrs = NearestNeighbors(n_neighbors=k, metric=metric)\n",
    "\n",
    "    nbrs.fit(df[feature_names])\n",
    "\n",
    "    nbrs_distances, nbrs_indices = nbrs.kneighbors([df.iloc[n][feature_names]])\n",
    "\n",
    "    df_res = pd.concat([\n",
    "        df.iloc[nbrs_indices[0]],\n",
    "        pd.DataFrame(nbrs_distances.T, index=nbrs_indices[0], columns=['distance'])\n",
    "    ], axis=1)\n",
    "\n",
    "    return df_res"
   ]
  },
  {
   "cell_type": "code",
   "execution_count": 12,
   "metadata": {},
   "outputs": [
    {
     "name": "stderr",
     "output_type": "stream",
     "text": [
      "C:\\Users\\DANIEL\\anaconda3\\envs\\DatScience\\lib\\site-packages\\sklearn\\base.py:493: UserWarning: X does not have valid feature names, but NearestNeighbors was fitted with feature names\n",
      "  warnings.warn(\n"
     ]
    },
    {
     "data": {
      "text/html": [
       "<div>\n",
       "<style scoped>\n",
       "    .dataframe tbody tr th:only-of-type {\n",
       "        vertical-align: middle;\n",
       "    }\n",
       "\n",
       "    .dataframe tbody tr th {\n",
       "        vertical-align: top;\n",
       "    }\n",
       "\n",
       "    .dataframe thead th {\n",
       "        text-align: right;\n",
       "    }\n",
       "</style>\n",
       "<table border=\"1\" class=\"dataframe\">\n",
       "  <thead>\n",
       "    <tr style=\"text-align: right;\">\n",
       "      <th></th>\n",
       "      <th>Unnamed: 0</th>\n",
       "      <th>gender</th>\n",
       "      <th>age</th>\n",
       "      <th>income</th>\n",
       "      <th>family_members</th>\n",
       "      <th>insurance_benefits</th>\n",
       "      <th>distance</th>\n",
       "    </tr>\n",
       "  </thead>\n",
       "  <tbody>\n",
       "    <tr>\n",
       "      <th>0</th>\n",
       "      <td>0</td>\n",
       "      <td>1</td>\n",
       "      <td>41</td>\n",
       "      <td>49600.0</td>\n",
       "      <td>1</td>\n",
       "      <td>0</td>\n",
       "      <td>0.000000</td>\n",
       "    </tr>\n",
       "    <tr>\n",
       "      <th>2022</th>\n",
       "      <td>2022</td>\n",
       "      <td>1</td>\n",
       "      <td>41</td>\n",
       "      <td>49600.0</td>\n",
       "      <td>0</td>\n",
       "      <td>0</td>\n",
       "      <td>1.000000</td>\n",
       "    </tr>\n",
       "    <tr>\n",
       "      <th>1225</th>\n",
       "      <td>1225</td>\n",
       "      <td>0</td>\n",
       "      <td>42</td>\n",
       "      <td>49600.0</td>\n",
       "      <td>0</td>\n",
       "      <td>1</td>\n",
       "      <td>1.732051</td>\n",
       "    </tr>\n",
       "    <tr>\n",
       "      <th>4031</th>\n",
       "      <td>4031</td>\n",
       "      <td>1</td>\n",
       "      <td>44</td>\n",
       "      <td>49600.0</td>\n",
       "      <td>2</td>\n",
       "      <td>1</td>\n",
       "      <td>3.162278</td>\n",
       "    </tr>\n",
       "    <tr>\n",
       "      <th>3424</th>\n",
       "      <td>3424</td>\n",
       "      <td>0</td>\n",
       "      <td>38</td>\n",
       "      <td>49600.0</td>\n",
       "      <td>0</td>\n",
       "      <td>0</td>\n",
       "      <td>3.316625</td>\n",
       "    </tr>\n",
       "  </tbody>\n",
       "</table>\n",
       "</div>"
      ],
      "text/plain": [
       "      Unnamed: 0  gender  age   income  family_members  insurance_benefits  \\\n",
       "0              0       1   41  49600.0               1                   0   \n",
       "2022        2022       1   41  49600.0               0                   0   \n",
       "1225        1225       0   42  49600.0               0                   1   \n",
       "4031        4031       1   44  49600.0               2                   1   \n",
       "3424        3424       0   38  49600.0               0                   0   \n",
       "\n",
       "      distance  \n",
       "0     0.000000  \n",
       "2022  1.000000  \n",
       "1225  1.732051  \n",
       "4031  3.162278  \n",
       "3424  3.316625  "
      ]
     },
     "execution_count": 12,
     "metadata": {},
     "output_type": "execute_result"
    }
   ],
   "source": [
    "n = 0  \n",
    "k = 5  \n",
    "\n",
    "# Métrica de distância Euclidiana\n",
    "result_1 = get_knn(df, n, 'euclidean', feature_names, k)\n",
    "result_1"
   ]
  },
  {
   "cell_type": "code",
   "execution_count": 13,
   "metadata": {},
   "outputs": [
    {
     "name": "stderr",
     "output_type": "stream",
     "text": [
      "C:\\Users\\DANIEL\\anaconda3\\envs\\DatScience\\lib\\site-packages\\sklearn\\base.py:493: UserWarning: X does not have valid feature names, but NearestNeighbors was fitted with feature names\n",
      "  warnings.warn(\n"
     ]
    },
    {
     "data": {
      "text/html": [
       "<div>\n",
       "<style scoped>\n",
       "    .dataframe tbody tr th:only-of-type {\n",
       "        vertical-align: middle;\n",
       "    }\n",
       "\n",
       "    .dataframe tbody tr th {\n",
       "        vertical-align: top;\n",
       "    }\n",
       "\n",
       "    .dataframe thead th {\n",
       "        text-align: right;\n",
       "    }\n",
       "</style>\n",
       "<table border=\"1\" class=\"dataframe\">\n",
       "  <thead>\n",
       "    <tr style=\"text-align: right;\">\n",
       "      <th></th>\n",
       "      <th>Unnamed: 0</th>\n",
       "      <th>gender</th>\n",
       "      <th>age</th>\n",
       "      <th>income</th>\n",
       "      <th>family_members</th>\n",
       "      <th>insurance_benefits</th>\n",
       "      <th>distance</th>\n",
       "    </tr>\n",
       "  </thead>\n",
       "  <tbody>\n",
       "    <tr>\n",
       "      <th>0</th>\n",
       "      <td>0</td>\n",
       "      <td>1</td>\n",
       "      <td>41</td>\n",
       "      <td>49600.0</td>\n",
       "      <td>1</td>\n",
       "      <td>0</td>\n",
       "      <td>0.0</td>\n",
       "    </tr>\n",
       "    <tr>\n",
       "      <th>2022</th>\n",
       "      <td>2022</td>\n",
       "      <td>1</td>\n",
       "      <td>41</td>\n",
       "      <td>49600.0</td>\n",
       "      <td>0</td>\n",
       "      <td>0</td>\n",
       "      <td>1.0</td>\n",
       "    </tr>\n",
       "    <tr>\n",
       "      <th>1225</th>\n",
       "      <td>1225</td>\n",
       "      <td>0</td>\n",
       "      <td>42</td>\n",
       "      <td>49600.0</td>\n",
       "      <td>0</td>\n",
       "      <td>1</td>\n",
       "      <td>3.0</td>\n",
       "    </tr>\n",
       "    <tr>\n",
       "      <th>4031</th>\n",
       "      <td>4031</td>\n",
       "      <td>1</td>\n",
       "      <td>44</td>\n",
       "      <td>49600.0</td>\n",
       "      <td>2</td>\n",
       "      <td>1</td>\n",
       "      <td>4.0</td>\n",
       "    </tr>\n",
       "    <tr>\n",
       "      <th>815</th>\n",
       "      <td>815</td>\n",
       "      <td>1</td>\n",
       "      <td>37</td>\n",
       "      <td>49600.0</td>\n",
       "      <td>2</td>\n",
       "      <td>0</td>\n",
       "      <td>5.0</td>\n",
       "    </tr>\n",
       "  </tbody>\n",
       "</table>\n",
       "</div>"
      ],
      "text/plain": [
       "      Unnamed: 0  gender  age   income  family_members  insurance_benefits  \\\n",
       "0              0       1   41  49600.0               1                   0   \n",
       "2022        2022       1   41  49600.0               0                   0   \n",
       "1225        1225       0   42  49600.0               0                   1   \n",
       "4031        4031       1   44  49600.0               2                   1   \n",
       "815          815       1   37  49600.0               2                   0   \n",
       "\n",
       "      distance  \n",
       "0          0.0  \n",
       "2022       1.0  \n",
       "1225       3.0  \n",
       "4031       4.0  \n",
       "815        5.0  "
      ]
     },
     "execution_count": 13,
     "metadata": {},
     "output_type": "execute_result"
    }
   ],
   "source": [
    "# Métrica de distância Manhattan\n",
    "result_2 = get_knn(df, n, 'manhattan', feature_names, k)\n",
    "result_2"
   ]
  },
  {
   "cell_type": "markdown",
   "metadata": {},
   "source": [
    "Escalando os dados"
   ]
  },
  {
   "cell_type": "code",
   "execution_count": 14,
   "metadata": {},
   "outputs": [],
   "source": [
    "feature_names = ['gender', 'age', 'income', 'family_members']\n",
    "\n",
    "transformer_mas = sklearn.preprocessing.MaxAbsScaler().fit(df[feature_names].to_numpy())\n",
    "\n",
    "df_scaled = df.copy()\n",
    "df_scaled.loc[:, feature_names] = transformer_mas.transform(df[feature_names].to_numpy())"
   ]
  },
  {
   "cell_type": "code",
   "execution_count": 15,
   "metadata": {},
   "outputs": [
    {
     "data": {
      "text/html": [
       "<div>\n",
       "<style scoped>\n",
       "    .dataframe tbody tr th:only-of-type {\n",
       "        vertical-align: middle;\n",
       "    }\n",
       "\n",
       "    .dataframe tbody tr th {\n",
       "        vertical-align: top;\n",
       "    }\n",
       "\n",
       "    .dataframe thead th {\n",
       "        text-align: right;\n",
       "    }\n",
       "</style>\n",
       "<table border=\"1\" class=\"dataframe\">\n",
       "  <thead>\n",
       "    <tr style=\"text-align: right;\">\n",
       "      <th></th>\n",
       "      <th>Unnamed: 0</th>\n",
       "      <th>gender</th>\n",
       "      <th>age</th>\n",
       "      <th>income</th>\n",
       "      <th>family_members</th>\n",
       "      <th>insurance_benefits</th>\n",
       "    </tr>\n",
       "  </thead>\n",
       "  <tbody>\n",
       "    <tr>\n",
       "      <th>2018</th>\n",
       "      <td>2018</td>\n",
       "      <td>0</td>\n",
       "      <td>0.353846</td>\n",
       "      <td>0.378481</td>\n",
       "      <td>0.500000</td>\n",
       "      <td>0</td>\n",
       "    </tr>\n",
       "    <tr>\n",
       "      <th>2058</th>\n",
       "      <td>2058</td>\n",
       "      <td>1</td>\n",
       "      <td>0.584615</td>\n",
       "      <td>0.550633</td>\n",
       "      <td>0.000000</td>\n",
       "      <td>0</td>\n",
       "    </tr>\n",
       "    <tr>\n",
       "      <th>1902</th>\n",
       "      <td>1902</td>\n",
       "      <td>1</td>\n",
       "      <td>0.615385</td>\n",
       "      <td>0.540506</td>\n",
       "      <td>0.500000</td>\n",
       "      <td>0</td>\n",
       "    </tr>\n",
       "    <tr>\n",
       "      <th>1569</th>\n",
       "      <td>1569</td>\n",
       "      <td>0</td>\n",
       "      <td>0.353846</td>\n",
       "      <td>0.520253</td>\n",
       "      <td>0.166667</td>\n",
       "      <td>0</td>\n",
       "    </tr>\n",
       "    <tr>\n",
       "      <th>422</th>\n",
       "      <td>422</td>\n",
       "      <td>1</td>\n",
       "      <td>0.461538</td>\n",
       "      <td>0.524051</td>\n",
       "      <td>0.333333</td>\n",
       "      <td>0</td>\n",
       "    </tr>\n",
       "  </tbody>\n",
       "</table>\n",
       "</div>"
      ],
      "text/plain": [
       "      Unnamed: 0  gender       age    income  family_members  \\\n",
       "2018        2018       0  0.353846  0.378481        0.500000   \n",
       "2058        2058       1  0.584615  0.550633        0.000000   \n",
       "1902        1902       1  0.615385  0.540506        0.500000   \n",
       "1569        1569       0  0.353846  0.520253        0.166667   \n",
       "422          422       1  0.461538  0.524051        0.333333   \n",
       "\n",
       "      insurance_benefits  \n",
       "2018                   0  \n",
       "2058                   0  \n",
       "1902                   0  \n",
       "1569                   0  \n",
       "422                    0  "
      ]
     },
     "execution_count": 15,
     "metadata": {},
     "output_type": "execute_result"
    }
   ],
   "source": [
    "df_scaled.sample(5)"
   ]
  },
  {
   "cell_type": "code",
   "execution_count": 16,
   "metadata": {},
   "outputs": [
    {
     "name": "stderr",
     "output_type": "stream",
     "text": [
      "C:\\Users\\DANIEL\\anaconda3\\envs\\DatScience\\lib\\site-packages\\sklearn\\base.py:493: UserWarning: X does not have valid feature names, but NearestNeighbors was fitted with feature names\n",
      "  warnings.warn(\n"
     ]
    },
    {
     "data": {
      "text/html": [
       "<div>\n",
       "<style scoped>\n",
       "    .dataframe tbody tr th:only-of-type {\n",
       "        vertical-align: middle;\n",
       "    }\n",
       "\n",
       "    .dataframe tbody tr th {\n",
       "        vertical-align: top;\n",
       "    }\n",
       "\n",
       "    .dataframe thead th {\n",
       "        text-align: right;\n",
       "    }\n",
       "</style>\n",
       "<table border=\"1\" class=\"dataframe\">\n",
       "  <thead>\n",
       "    <tr style=\"text-align: right;\">\n",
       "      <th></th>\n",
       "      <th>Unnamed: 0</th>\n",
       "      <th>gender</th>\n",
       "      <th>age</th>\n",
       "      <th>income</th>\n",
       "      <th>family_members</th>\n",
       "      <th>insurance_benefits</th>\n",
       "      <th>distance</th>\n",
       "    </tr>\n",
       "  </thead>\n",
       "  <tbody>\n",
       "    <tr>\n",
       "      <th>0</th>\n",
       "      <td>0</td>\n",
       "      <td>1</td>\n",
       "      <td>0.630769</td>\n",
       "      <td>0.627848</td>\n",
       "      <td>0.166667</td>\n",
       "      <td>0</td>\n",
       "      <td>0.000000</td>\n",
       "    </tr>\n",
       "    <tr>\n",
       "      <th>2689</th>\n",
       "      <td>2689</td>\n",
       "      <td>1</td>\n",
       "      <td>0.630769</td>\n",
       "      <td>0.634177</td>\n",
       "      <td>0.166667</td>\n",
       "      <td>0</td>\n",
       "      <td>0.006329</td>\n",
       "    </tr>\n",
       "    <tr>\n",
       "      <th>133</th>\n",
       "      <td>133</td>\n",
       "      <td>1</td>\n",
       "      <td>0.615385</td>\n",
       "      <td>0.636709</td>\n",
       "      <td>0.166667</td>\n",
       "      <td>0</td>\n",
       "      <td>0.017754</td>\n",
       "    </tr>\n",
       "    <tr>\n",
       "      <th>4869</th>\n",
       "      <td>4869</td>\n",
       "      <td>1</td>\n",
       "      <td>0.646154</td>\n",
       "      <td>0.637975</td>\n",
       "      <td>0.166667</td>\n",
       "      <td>1</td>\n",
       "      <td>0.018418</td>\n",
       "    </tr>\n",
       "    <tr>\n",
       "      <th>3275</th>\n",
       "      <td>3275</td>\n",
       "      <td>1</td>\n",
       "      <td>0.646154</td>\n",
       "      <td>0.651899</td>\n",
       "      <td>0.166667</td>\n",
       "      <td>1</td>\n",
       "      <td>0.028550</td>\n",
       "    </tr>\n",
       "  </tbody>\n",
       "</table>\n",
       "</div>"
      ],
      "text/plain": [
       "      Unnamed: 0  gender       age    income  family_members  \\\n",
       "0              0       1  0.630769  0.627848        0.166667   \n",
       "2689        2689       1  0.630769  0.634177        0.166667   \n",
       "133          133       1  0.615385  0.636709        0.166667   \n",
       "4869        4869       1  0.646154  0.637975        0.166667   \n",
       "3275        3275       1  0.646154  0.651899        0.166667   \n",
       "\n",
       "      insurance_benefits  distance  \n",
       "0                      0  0.000000  \n",
       "2689                   0  0.006329  \n",
       "133                    0  0.017754  \n",
       "4869                   1  0.018418  \n",
       "3275                   1  0.028550  "
      ]
     },
     "execution_count": 16,
     "metadata": {},
     "output_type": "execute_result"
    }
   ],
   "source": [
    "# Métrica de distância Euclidiana\n",
    "result_1_scaled = get_knn(df_scaled, n, 'euclidean', feature_names, k)\n",
    "result_1_scaled"
   ]
  },
  {
   "cell_type": "code",
   "execution_count": 17,
   "metadata": {},
   "outputs": [
    {
     "name": "stderr",
     "output_type": "stream",
     "text": [
      "C:\\Users\\DANIEL\\anaconda3\\envs\\DatScience\\lib\\site-packages\\sklearn\\base.py:493: UserWarning: X does not have valid feature names, but NearestNeighbors was fitted with feature names\n",
      "  warnings.warn(\n"
     ]
    },
    {
     "data": {
      "text/html": [
       "<div>\n",
       "<style scoped>\n",
       "    .dataframe tbody tr th:only-of-type {\n",
       "        vertical-align: middle;\n",
       "    }\n",
       "\n",
       "    .dataframe tbody tr th {\n",
       "        vertical-align: top;\n",
       "    }\n",
       "\n",
       "    .dataframe thead th {\n",
       "        text-align: right;\n",
       "    }\n",
       "</style>\n",
       "<table border=\"1\" class=\"dataframe\">\n",
       "  <thead>\n",
       "    <tr style=\"text-align: right;\">\n",
       "      <th></th>\n",
       "      <th>Unnamed: 0</th>\n",
       "      <th>gender</th>\n",
       "      <th>age</th>\n",
       "      <th>income</th>\n",
       "      <th>family_members</th>\n",
       "      <th>insurance_benefits</th>\n",
       "      <th>distance</th>\n",
       "    </tr>\n",
       "  </thead>\n",
       "  <tbody>\n",
       "    <tr>\n",
       "      <th>0</th>\n",
       "      <td>0</td>\n",
       "      <td>1</td>\n",
       "      <td>0.630769</td>\n",
       "      <td>0.627848</td>\n",
       "      <td>0.166667</td>\n",
       "      <td>0</td>\n",
       "      <td>0.000000</td>\n",
       "    </tr>\n",
       "    <tr>\n",
       "      <th>2689</th>\n",
       "      <td>2689</td>\n",
       "      <td>1</td>\n",
       "      <td>0.630769</td>\n",
       "      <td>0.634177</td>\n",
       "      <td>0.166667</td>\n",
       "      <td>0</td>\n",
       "      <td>0.006329</td>\n",
       "    </tr>\n",
       "    <tr>\n",
       "      <th>133</th>\n",
       "      <td>133</td>\n",
       "      <td>1</td>\n",
       "      <td>0.615385</td>\n",
       "      <td>0.636709</td>\n",
       "      <td>0.166667</td>\n",
       "      <td>0</td>\n",
       "      <td>0.024245</td>\n",
       "    </tr>\n",
       "    <tr>\n",
       "      <th>4869</th>\n",
       "      <td>4869</td>\n",
       "      <td>1</td>\n",
       "      <td>0.646154</td>\n",
       "      <td>0.637975</td>\n",
       "      <td>0.166667</td>\n",
       "      <td>1</td>\n",
       "      <td>0.025511</td>\n",
       "    </tr>\n",
       "    <tr>\n",
       "      <th>2103</th>\n",
       "      <td>2103</td>\n",
       "      <td>1</td>\n",
       "      <td>0.630769</td>\n",
       "      <td>0.596203</td>\n",
       "      <td>0.166667</td>\n",
       "      <td>0</td>\n",
       "      <td>0.031646</td>\n",
       "    </tr>\n",
       "  </tbody>\n",
       "</table>\n",
       "</div>"
      ],
      "text/plain": [
       "      Unnamed: 0  gender       age    income  family_members  \\\n",
       "0              0       1  0.630769  0.627848        0.166667   \n",
       "2689        2689       1  0.630769  0.634177        0.166667   \n",
       "133          133       1  0.615385  0.636709        0.166667   \n",
       "4869        4869       1  0.646154  0.637975        0.166667   \n",
       "2103        2103       1  0.630769  0.596203        0.166667   \n",
       "\n",
       "      insurance_benefits  distance  \n",
       "0                      0  0.000000  \n",
       "2689                   0  0.006329  \n",
       "133                    0  0.024245  \n",
       "4869                   1  0.025511  \n",
       "2103                   0  0.031646  "
      ]
     },
     "execution_count": 17,
     "metadata": {},
     "output_type": "execute_result"
    }
   ],
   "source": [
    "# Métrica de distância Manhattan\n",
    "result_2_scaled = get_knn(df_scaled, n, 'manhattan', feature_names, k)\n",
    "result_2_scaled"
   ]
  },
  {
   "cell_type": "markdown",
   "metadata": {},
   "source": [
    "Respostas para as perguntas"
   ]
  },
  {
   "cell_type": "markdown",
   "metadata": {},
   "source": [
    "**Os dados não escalados afetam o algoritmo kNN? Se sim, como isso acontece?** \n",
    "\n",
    "Sim, os dados não escalados podem afetar o algoritmo kNN. O kNN calcula a distância entre pontos para encontrar os vizinhos mais próximos. Se os dados não forem escalados e as unidades de medida das diferentes características forem muito diferentes, características com magnitudes maiores podem dominar a distância e afetar a qualidade dos resultados. Sem o escalonamento o algoritimo kNN não lida bem com valores inteiros distintos entre os dados, o que leva a imprecisão no calculo dos vizinhos."
   ]
  },
  {
   "cell_type": "markdown",
   "metadata": {},
   "source": [
    "**Quão semelhantes são os resultados usando a métrica de distância de Manhattan (independentemente da escalabilidade)?** \n",
    "\n",
    "Podemos observar que os resultados usando a métrica de distância de Manhattan são não muito semelhantes entre os dados não escalados e escalados. Isso é evidenciado pelas seguintes observações: A distancia dos vizinhos próximos e a diferença na distância."
   ]
  },
  {
   "cell_type": "markdown",
   "metadata": {},
   "source": [
    "# Tarefa 2. É provável que o cliente receba um pagamento do seguro?"
   ]
  },
  {
   "cell_type": "markdown",
   "metadata": {},
   "source": [
    "Em termos de aprendizado de máquina, podemos olhar para isso como uma tarefa de classificação binária."
   ]
  },
  {
   "cell_type": "markdown",
   "metadata": {},
   "source": [
    "Com os pagamentos de seguro sendo mais do que zero como objetivo, avalie se a abordagem da classificação kNN pode ser melhor do que um modelo dummy.\n",
    "\n",
    "Instruções:\n",
    "- Construa um classificador baseado em kNN e meça sua qualidade com a métrica F1 para k=1..10 tanto para os dados originais quanto para os escalados. Seria interessante ver como k pode influenciar a métrica de avaliação e se a escalabilidade dos dados faz alguma diferença. Você pode usar uma implementação pronta do algoritmo de classificação kNN do scikit-learn (verifique [o link](https://scikit-learn.org/stable/modules/generated/sklearn.neighbors.KNeighborsClassifier.html)) ou usar a sua própria.\n",
    "- Construa o modelo dummy, que é aleatório para este caso. Deve retornar com alguma probabilidade o valor \"1\". LVamos testar o modelo com quatro valores de probabilidade: 0, a probabilidade de fazer qualquer pagamento de seguro, 0,5, 1.\n",
    "\n",
    "A probabilidade de fazer qualquer pagamento de seguro pode ser definida como\n",
    "\n",
    "$$\n",
    "P\\{\\text{pagamento de seguro recebido}= número de clientes que receberam qualquer pagamento de seguro}}{\\text{número total de clientes}}.\n",
    "$$\n",
    "\n",
    "Divida os dados inteiros na proporção 70:30 para as partes de treinamento/teste."
   ]
  },
  {
   "cell_type": "code",
   "execution_count": 18,
   "metadata": {},
   "outputs": [],
   "source": [
    "# Calculo da meta\n",
    "df['insurance_benefits_received'] = np.where(df['insurance_benefits'] > 0, 1, 0)"
   ]
  },
  {
   "cell_type": "code",
   "execution_count": 19,
   "metadata": {},
   "outputs": [
    {
     "data": {
      "text/plain": [
       "insurance_benefits_received\n",
       "0    4436\n",
       "1     564\n",
       "Name: count, dtype: int64"
      ]
     },
     "execution_count": 19,
     "metadata": {},
     "output_type": "execute_result"
    }
   ],
   "source": [
    "df['insurance_benefits_received'].value_counts()"
   ]
  },
  {
   "cell_type": "code",
   "execution_count": 20,
   "metadata": {},
   "outputs": [],
   "source": [
    "def eval_classifier(y_true, y_pred):\n",
    "    \n",
    "    f1_score = sklearn.metrics.f1_score(y_true, y_pred)\n",
    "    print(f'F1: {f1_score:.2f}')\n",
    "    \n",
    "    cm = sklearn.metrics.confusion_matrix(y_true, y_pred, normalize='all')\n",
    "    print('Matriz de Confusão')\n",
    "    print(cm)"
   ]
  },
  {
   "cell_type": "code",
   "execution_count": 21,
   "metadata": {},
   "outputs": [],
   "source": [
    "# gerando saída de um modelo aleatório\n",
    "\n",
    "def rnd_model_predict(P, size, seed=42):\n",
    "\n",
    "    rng = np.random.default_rng(seed=seed)\n",
    "    return rng.binomial(n=1, p=P, size=size)"
   ]
  },
  {
   "cell_type": "code",
   "execution_count": 22,
   "metadata": {},
   "outputs": [
    {
     "name": "stdout",
     "output_type": "stream",
     "text": [
      "A probabilidade: 0.00\n",
      "F1: 0.00\n",
      "Matriz de Confusão\n",
      "[[0.8872 0.    ]\n",
      " [0.1128 0.    ]]\n",
      "\n",
      "A probabilidade: 0.11\n",
      "F1: 0.12\n",
      "Matriz de Confusão\n",
      "[[0.7914 0.0958]\n",
      " [0.0994 0.0134]]\n",
      "\n",
      "A probabilidade: 0.50\n",
      "F1: 0.20\n",
      "Matriz de Confusão\n",
      "[[0.456  0.4312]\n",
      " [0.053  0.0598]]\n",
      "\n",
      "A probabilidade: 1.00\n",
      "F1: 0.20\n",
      "Matriz de Confusão\n",
      "[[0.     0.8872]\n",
      " [0.     0.1128]]\n",
      "\n"
     ]
    }
   ],
   "source": [
    "for P in [0, df['insurance_benefits_received'].sum() / len(df), 0.5, 1]:\n",
    "\n",
    "    print(f'A probabilidade: {P:.2f}')\n",
    "    y_pred_rnd = rnd_model_predict(P, len(df))\n",
    "\n",
    "        \n",
    "    eval_classifier(df['insurance_benefits_received'], y_pred_rnd)\n",
    "    \n",
    "    print()"
   ]
  },
  {
   "cell_type": "code",
   "execution_count": 23,
   "metadata": {},
   "outputs": [
    {
     "data": {
      "text/html": [
       "<div>\n",
       "<style scoped>\n",
       "    .dataframe tbody tr th:only-of-type {\n",
       "        vertical-align: middle;\n",
       "    }\n",
       "\n",
       "    .dataframe tbody tr th {\n",
       "        vertical-align: top;\n",
       "    }\n",
       "\n",
       "    .dataframe thead th {\n",
       "        text-align: right;\n",
       "    }\n",
       "</style>\n",
       "<table border=\"1\" class=\"dataframe\">\n",
       "  <thead>\n",
       "    <tr style=\"text-align: right;\">\n",
       "      <th></th>\n",
       "      <th>Unnamed: 0</th>\n",
       "      <th>gender</th>\n",
       "      <th>age</th>\n",
       "      <th>income</th>\n",
       "      <th>family_members</th>\n",
       "      <th>insurance_benefits</th>\n",
       "      <th>insurance_benefits_received</th>\n",
       "    </tr>\n",
       "  </thead>\n",
       "  <tbody>\n",
       "    <tr>\n",
       "      <th>0</th>\n",
       "      <td>0</td>\n",
       "      <td>1</td>\n",
       "      <td>41</td>\n",
       "      <td>49600.0</td>\n",
       "      <td>1</td>\n",
       "      <td>0</td>\n",
       "      <td>0</td>\n",
       "    </tr>\n",
       "    <tr>\n",
       "      <th>1</th>\n",
       "      <td>1</td>\n",
       "      <td>0</td>\n",
       "      <td>46</td>\n",
       "      <td>38000.0</td>\n",
       "      <td>1</td>\n",
       "      <td>1</td>\n",
       "      <td>1</td>\n",
       "    </tr>\n",
       "    <tr>\n",
       "      <th>2</th>\n",
       "      <td>2</td>\n",
       "      <td>0</td>\n",
       "      <td>29</td>\n",
       "      <td>21000.0</td>\n",
       "      <td>0</td>\n",
       "      <td>0</td>\n",
       "      <td>0</td>\n",
       "    </tr>\n",
       "    <tr>\n",
       "      <th>3</th>\n",
       "      <td>3</td>\n",
       "      <td>0</td>\n",
       "      <td>21</td>\n",
       "      <td>41700.0</td>\n",
       "      <td>2</td>\n",
       "      <td>0</td>\n",
       "      <td>0</td>\n",
       "    </tr>\n",
       "    <tr>\n",
       "      <th>4</th>\n",
       "      <td>4</td>\n",
       "      <td>1</td>\n",
       "      <td>28</td>\n",
       "      <td>26100.0</td>\n",
       "      <td>0</td>\n",
       "      <td>0</td>\n",
       "      <td>0</td>\n",
       "    </tr>\n",
       "    <tr>\n",
       "      <th>...</th>\n",
       "      <td>...</td>\n",
       "      <td>...</td>\n",
       "      <td>...</td>\n",
       "      <td>...</td>\n",
       "      <td>...</td>\n",
       "      <td>...</td>\n",
       "      <td>...</td>\n",
       "    </tr>\n",
       "    <tr>\n",
       "      <th>4995</th>\n",
       "      <td>4995</td>\n",
       "      <td>0</td>\n",
       "      <td>28</td>\n",
       "      <td>35700.0</td>\n",
       "      <td>2</td>\n",
       "      <td>0</td>\n",
       "      <td>0</td>\n",
       "    </tr>\n",
       "    <tr>\n",
       "      <th>4996</th>\n",
       "      <td>4996</td>\n",
       "      <td>0</td>\n",
       "      <td>34</td>\n",
       "      <td>52400.0</td>\n",
       "      <td>1</td>\n",
       "      <td>0</td>\n",
       "      <td>0</td>\n",
       "    </tr>\n",
       "    <tr>\n",
       "      <th>4997</th>\n",
       "      <td>4997</td>\n",
       "      <td>0</td>\n",
       "      <td>20</td>\n",
       "      <td>33900.0</td>\n",
       "      <td>2</td>\n",
       "      <td>0</td>\n",
       "      <td>0</td>\n",
       "    </tr>\n",
       "    <tr>\n",
       "      <th>4998</th>\n",
       "      <td>4998</td>\n",
       "      <td>1</td>\n",
       "      <td>22</td>\n",
       "      <td>32700.0</td>\n",
       "      <td>3</td>\n",
       "      <td>0</td>\n",
       "      <td>0</td>\n",
       "    </tr>\n",
       "    <tr>\n",
       "      <th>4999</th>\n",
       "      <td>4999</td>\n",
       "      <td>1</td>\n",
       "      <td>28</td>\n",
       "      <td>40600.0</td>\n",
       "      <td>1</td>\n",
       "      <td>0</td>\n",
       "      <td>0</td>\n",
       "    </tr>\n",
       "  </tbody>\n",
       "</table>\n",
       "<p>5000 rows × 7 columns</p>\n",
       "</div>"
      ],
      "text/plain": [
       "      Unnamed: 0  gender  age   income  family_members  insurance_benefits  \\\n",
       "0              0       1   41  49600.0               1                   0   \n",
       "1              1       0   46  38000.0               1                   1   \n",
       "2              2       0   29  21000.0               0                   0   \n",
       "3              3       0   21  41700.0               2                   0   \n",
       "4              4       1   28  26100.0               0                   0   \n",
       "...          ...     ...  ...      ...             ...                 ...   \n",
       "4995        4995       0   28  35700.0               2                   0   \n",
       "4996        4996       0   34  52400.0               1                   0   \n",
       "4997        4997       0   20  33900.0               2                   0   \n",
       "4998        4998       1   22  32700.0               3                   0   \n",
       "4999        4999       1   28  40600.0               1                   0   \n",
       "\n",
       "      insurance_benefits_received  \n",
       "0                               0  \n",
       "1                               1  \n",
       "2                               0  \n",
       "3                               0  \n",
       "4                               0  \n",
       "...                           ...  \n",
       "4995                            0  \n",
       "4996                            0  \n",
       "4997                            0  \n",
       "4998                            0  \n",
       "4999                            0  \n",
       "\n",
       "[5000 rows x 7 columns]"
      ]
     },
     "execution_count": 23,
     "metadata": {},
     "output_type": "execute_result"
    }
   ],
   "source": [
    "df"
   ]
  },
  {
   "cell_type": "code",
   "execution_count": 24,
   "metadata": {},
   "outputs": [],
   "source": [
    "columns_to_scale = ['gender', 'age', 'income', 'family_members']\n",
    "\n",
    "scaler = StandardScaler()\n",
    "\n",
    "scaler.fit(df[columns_to_scale])\n",
    "\n",
    "df_scaled = df.copy() \n",
    "df_scaled[columns_to_scale] = scaler.transform(df[columns_to_scale])\n"
   ]
  },
  {
   "cell_type": "code",
   "execution_count": 25,
   "metadata": {},
   "outputs": [],
   "source": [
    "X_train_orig, X_test_orig, y_train_orig, y_test_orig = train_test_split(\n",
    "    df[columns_to_scale], df['insurance_benefits_received'], test_size=0.3, random_state=12345)\n",
    "\n",
    "X_train_scaled = df_scaled.iloc[X_train_orig.index].drop(columns=['insurance_benefits_received', 'insurance_benefits'])\n",
    "X_test_scaled = df_scaled.iloc[X_test_orig.index].drop(columns=['insurance_benefits_received', 'insurance_benefits'])\n",
    "y_train_scaled = y_train_orig.copy()  \n",
    "y_test_scaled = y_test_orig.copy()    "
   ]
  },
  {
   "cell_type": "code",
   "execution_count": 26,
   "metadata": {},
   "outputs": [],
   "source": [
    "classes = np.array([0, 1])\n",
    "\n",
    "class_weights = compute_class_weight('balanced', classes=classes, y=df['insurance_benefits_received'])\n",
    "class_weight_dict = {0: class_weights[0], 1: class_weights[1]}\n",
    "\n",
    "k_values = list(range(1, 11))"
   ]
  },
  {
   "cell_type": "code",
   "execution_count": 27,
   "metadata": {
    "scrolled": true
   },
   "outputs": [
    {
     "data": {
      "image/png": "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",
      "text/plain": [
       "<Figure size 1000x600 with 1 Axes>"
      ]
     },
     "metadata": {},
     "output_type": "display_data"
    }
   ],
   "source": [
    "# Inicialize listas para armazenar os resultados do F1-score para dados originais\n",
    "f1_scores_original = []\n",
    "\n",
    "for k in k_values:\n",
    "    # Crie e ajuste o classificador k-NN para dados originais com pesos de classe\n",
    "    knn_original = KNeighborsClassifier(n_neighbors=k, weights='distance')\n",
    "    knn_original.fit(X_train_orig, y_train_orig)\n",
    "    y_pred_original = knn_original.predict(X_test_orig)\n",
    "    f1_original = f1_score(y_test_orig, y_pred_original)\n",
    "    f1_scores_original.append(f1_original)\n",
    "\n",
    "# Plote os resultados\n",
    "plt.figure(figsize=(10, 6))\n",
    "plt.plot(k_values, f1_scores_original, marker='o', label='Dados Originais')\n",
    "plt.xlabel('Valor de k')\n",
    "plt.ylabel('F1-Score')\n",
    "plt.title('F1-Score para Diferentes Valores de k (Pesos de Classe Balanceados)')\n",
    "plt.legend()\n",
    "plt.grid(True)\n",
    "plt.show()"
   ]
  },
  {
   "cell_type": "code",
   "execution_count": 28,
   "metadata": {},
   "outputs": [
    {
     "data": {
      "image/png": "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",
      "text/plain": [
       "<Figure size 1000x600 with 1 Axes>"
      ]
     },
     "metadata": {},
     "output_type": "display_data"
    }
   ],
   "source": [
    "# Inicialize listas para armazenar os resultados do F1-score para dados escalados\n",
    "f1_scores_scaled = []\n",
    "\n",
    "for k in k_values:\n",
    "    # Crie e ajuste o classificador k-NN para dados escalados com pesos de classe\n",
    "    knn_scaled = KNeighborsClassifier(n_neighbors=k, weights='distance')\n",
    "    knn_scaled.fit(X_train_scaled, y_train_orig)\n",
    "    y_pred_scaled = knn_scaled.predict(X_test_scaled)\n",
    "    f1_scaled = f1_score(y_test_orig, y_pred_scaled)\n",
    "    f1_scores_scaled.append(f1_scaled)\n",
    "\n",
    "# Plote os resultados\n",
    "plt.figure(figsize=(10, 6))\n",
    "plt.plot(k_values, f1_scores_scaled, marker='o', label='Dados Escalados')\n",
    "plt.xlabel('Valor de k')\n",
    "plt.ylabel('F1-Score')\n",
    "plt.title('F1-Score para Diferentes Valores de k (Pesos de Classe Balanceados, Dados Escalados)')\n",
    "plt.legend()\n",
    "plt.grid(True)\n",
    "plt.show()"
   ]
  },
  {
   "cell_type": "markdown",
   "metadata": {},
   "source": [
    "# Tarefa 3. Regressão (com Regressão Linear)"
   ]
  },
  {
   "cell_type": "markdown",
   "metadata": {},
   "source": [
    "Com os pagamentos de seguro como objetivo, avalie qual seria o REQM para um modelo de Regressão Linear."
   ]
  },
  {
   "cell_type": "markdown",
   "metadata": {},
   "source": [
    "Construa sua própria implementação de Regressão Linear. Para isso, lembre-se de como a solução da tarefa de regressão linear é formulada em termos de Álgebra linear. Verifique o REQM para os dados originais e os escalados. Você pode ver alguma diferença no REQM entre esses dois casos?\n",
    "\n",
    "Vamos denotar\n",
    "- $X$ — matriz de características, cada linha é um caso, cada coluna é uma característica, a primeira coluna consiste em unidades\n",
    "- $y$ — objetivo (um vetor)\n",
    "- $\\hat{y}$ — objetivo estimado (um vetor)- $w$ — vetor de peso\n",
    "\n",
    "A tarefa de regressão linear na linguagem de matrizes pode ser formulada como\n",
    "$$\n",
    "y = Xw\n",
    "$$\n",
    "\n",
    "O objetivo do treinamento, então, é encontrar os $w$ que minimizaria a distância L2 (EQM) entre $Xw$ e $y$:\n",
    "\n",
    "$$\n",
    "\\min_w d_2(Xw, y) \\quad \\text{or} \\quad \\min_w \\text{MSE}(Xw, y)\n",
    "$$\n",
    "\n",
    "Parece que há uma solução analítica para a questão acima:\n",
    "\n",
    "$$\n",
    "w = (X^T X)^{-1} X^T y\n",
    "$$\n",
    "\n",
    "A fórmula acima pode ser usada para encontrar os pesos $w$ e o último pode ser usado para calcular valores preditos\n",
    "\n",
    "$$\n",
    "\\hat{y} = X_{val}w\n",
    "$$"
   ]
  },
  {
   "cell_type": "markdown",
   "metadata": {},
   "source": [
    "Divida todos os dados na proporção 70:30 para as partes de treinamento/validação. Use a métrica REQM para a avaliação do modelo."
   ]
  },
  {
   "cell_type": "code",
   "execution_count": 29,
   "metadata": {},
   "outputs": [],
   "source": [
    "class MyLinearRegression:\n",
    "    \n",
    "    def __init__(self):\n",
    "        \n",
    "        self.weights = None\n",
    "    \n",
    "    def fit(self, X, y):\n",
    "        \n",
    "        # somando as unidades\n",
    "        X2 = np.append(np.ones([len(X), 1]), X, axis=1)\n",
    "        self.weights = self.weights = np.linalg.inv(X2.T @ X2) @ X2.T @ y\n",
    "\n",
    "    def predict(self, X):\n",
    "        \n",
    "        # somando as unidades\n",
    "        X2 = np.append(np.ones([len(X), 1]), X, axis=1)\n",
    "        y_pred = X2 @ self.weights\n",
    "        \n",
    "        return y_pred"
   ]
  },
  {
   "cell_type": "code",
   "execution_count": 30,
   "metadata": {},
   "outputs": [],
   "source": [
    "def eval_regressor(y_true, y_pred):\n",
    "    \n",
    "    rmse = math.sqrt(sklearn.metrics.mean_squared_error(y_true, y_pred))\n",
    "    print(f'REQM: {rmse:.2f}')\n",
    "    \n",
    "    r2_score = math.sqrt(sklearn.metrics.r2_score(y_true, y_pred))\n",
    "    print(f'R2: {r2_score:.2f}')    "
   ]
  },
  {
   "cell_type": "code",
   "execution_count": 33,
   "metadata": {
    "scrolled": true
   },
   "outputs": [
    {
     "name": "stdout",
     "output_type": "stream",
     "text": [
      "[-6.50583302e-01 -7.31018901e-04  2.47409374e-02  1.36927859e-07\n",
      " -6.32915410e-03]\n",
      "REQM: 0.23\n",
      "R2: 0.66\n"
     ]
    }
   ],
   "source": [
    "lr = MyLinearRegression()\n",
    "\n",
    "lr.fit(X_train_orig, y_train_orig)\n",
    "print(lr.weights)\n",
    "\n",
    "y_test_pred = lr.predict(X_test_orig)\n",
    "eval_regressor(y_test_orig, y_test_pred)"
   ]
  },
  {
   "cell_type": "code",
   "execution_count": 34,
   "metadata": {},
   "outputs": [
    {
     "name": "stdout",
     "output_type": "stream",
     "text": [
      "REQM: 0.23\n",
      "R2: 0.66\n"
     ]
    }
   ],
   "source": [
    "# Crie e ajuste o modelo de regressão linear\n",
    "lr_scaled = MyLinearRegression()\n",
    "lr_scaled.fit(X_train_scaled, y_train_scaled)\n",
    "\n",
    "# Faça previsões com o modelo treinado\n",
    "y_test_pred_scaled = lr_scaled.predict(X_test_scaled)\n",
    "\n",
    "# Avalie o modelo com as métricas\n",
    "eval_regressor(y_test_scaled, y_test_pred_scaled)"
   ]
  },
  {
   "cell_type": "markdown",
   "metadata": {},
   "source": [
    "# Tarefa 4. Ofuscando dados"
   ]
  },
  {
   "cell_type": "markdown",
   "metadata": {},
   "source": [
    "É melhor ofuscar os dados multiplicando as características numéricas (lembre-se, elas podem ser vistos como a matriz $X$) por uma matriz invertível $P$. \n",
    "\n",
    "$$\n",
    "X' = X \\times P\n",
    "$$\n",
    "\n",
    "Tente fazer isso e verifique como os valores das características ficarão após a transformação. Aliás, a invertibilidade é importante aqui, portanto, certifique-se de que $P$ seja realmente invertível.\n",
    "\n",
    "Você pode querer revisar a lição 'Matrizes e Operações com Matrizes -> Multiplicação de Matrizes' para relembrar a regra de multiplicação de matrizes e sua implementação com NumPy."
   ]
  },
  {
   "cell_type": "code",
   "execution_count": 35,
   "metadata": {},
   "outputs": [],
   "source": [
    "personal_info_column_list = ['gender', 'age', 'income', 'family_members']\n",
    "df_pn = df[personal_info_column_list]"
   ]
  },
  {
   "cell_type": "code",
   "execution_count": 36,
   "metadata": {},
   "outputs": [],
   "source": [
    "X = df_pn.to_numpy()"
   ]
  },
  {
   "cell_type": "markdown",
   "metadata": {},
   "source": [
    "Gerando uma matriz $P$ aleatória."
   ]
  },
  {
   "cell_type": "code",
   "execution_count": 37,
   "metadata": {},
   "outputs": [],
   "source": [
    "rng = np.random.default_rng(seed=42)\n",
    "P = rng.random(size=(X.shape[1], X.shape[1]))"
   ]
  },
  {
   "cell_type": "code",
   "execution_count": 38,
   "metadata": {},
   "outputs": [],
   "source": [
    "# Multiplique X pela matriz P para obter X' (matriz de características ofuscadas)\n",
    "X_prime = X @ P"
   ]
  },
  {
   "cell_type": "markdown",
   "metadata": {},
   "source": [
    "Verificando se a matriz $P$ é invertível"
   ]
  },
  {
   "cell_type": "code",
   "execution_count": 39,
   "metadata": {},
   "outputs": [
    {
     "name": "stdout",
     "output_type": "stream",
     "text": [
      "A matriz P é invertível.\n"
     ]
    }
   ],
   "source": [
    "determinante_P = np.linalg.det(P)\n",
    "\n",
    "if determinante_P != 0:\n",
    "    print(\"A matriz P é invertível.\")\n",
    "else:\n",
    "    print(\"A matriz P não é invertível.\")"
   ]
  },
  {
   "cell_type": "markdown",
   "metadata": {},
   "source": [
    "Você consegue adivinhar a idade ou a renda dos clientes após a transformação?"
   ]
  },
  {
   "cell_type": "markdown",
   "metadata": {},
   "source": [
    "* Qualquer tentativa de adivinhar a idade ou a renda dos clientes após essa transformação seria puramente aleatória e não estaria relacionada aos dados originais ou à intenção do processo de ofuscação. "
   ]
  },
  {
   "cell_type": "markdown",
   "metadata": {},
   "source": [
    "Você pode recuperar os dados originais de $X′$ se souber $P$? Tente verificar isso com cálculos movendo $P$ do lado direito da fórmula acima para o esquerdo. As regras da multiplicação de matrizes são realmente úteis aqui"
   ]
  },
  {
   "cell_type": "code",
   "execution_count": 40,
   "metadata": {},
   "outputs": [
    {
     "name": "stdout",
     "output_type": "stream",
     "text": [
      "Matriz Original X:\n",
      "[[1.00e+00 4.10e+01 4.96e+04 1.00e+00]\n",
      " [0.00e+00 4.60e+01 3.80e+04 1.00e+00]\n",
      " [0.00e+00 2.90e+01 2.10e+04 0.00e+00]\n",
      " ...\n",
      " [0.00e+00 2.00e+01 3.39e+04 2.00e+00]\n",
      " [1.00e+00 2.20e+01 3.27e+04 3.00e+00]\n",
      " [1.00e+00 2.80e+01 4.06e+04 1.00e+00]]\n",
      "\n",
      "Matriz X reconstruída a partir de X' usando P:\n",
      "[[ 1.00000000e+00  4.10000000e+01  4.96000000e+04  1.00000000e+00]\n",
      " [-3.63797881e-12  4.60000000e+01  3.80000000e+04  1.00000000e+00]\n",
      " [ 1.81898940e-12  2.90000000e+01  2.10000000e+04  0.00000000e+00]\n",
      " ...\n",
      " [ 0.00000000e+00  2.00000000e+01  3.39000000e+04  2.00000000e+00]\n",
      " [ 1.00000000e+00  2.20000000e+01  3.27000000e+04  3.00000000e+00]\n",
      " [ 1.00000000e+00  2.80000000e+01  4.06000000e+04  1.00000000e+00]]\n"
     ]
    }
   ],
   "source": [
    "# Multiplicação da matriz inversa de P (P⁻¹) do lado direito de X'\n",
    "X_reconstructed = X_prime @ np.linalg.inv(P)\n",
    "\n",
    "# Verifique os resultados da reconstrução\n",
    "print(\"Matriz Original X:\")\n",
    "print(X)\n",
    "\n",
    "print(\"\\nMatriz X reconstruída a partir de X' usando P:\")\n",
    "print(X_reconstructed)"
   ]
  },
  {
   "cell_type": "markdown",
   "metadata": {},
   "source": [
    "**Ou**"
   ]
  },
  {
   "cell_type": "markdown",
   "metadata": {},
   "source": [
    "𝑋 = 𝑋' × 𝑃\n",
    "\n",
    "Agora, se multiplicarmos ambos os lados da equação pela matriz inversa de 𝑃 (𝑃⁻¹) da direita:\n",
    "\n",
    "𝑋 × 𝑃⁻¹ = (𝑋' × 𝑃) × 𝑃⁻¹\n",
    "\n",
    "A regra de multiplicação de matrizes nos permite cancelar as multiplicações no lado direito:\n",
    "\n",
    "𝑋 × 𝑃⁻¹ = 𝑋' × (𝑃 × 𝑃⁻¹)\n",
    "\n",
    "𝑋 × 𝑃⁻¹ = 𝑋' × 𝐼\n",
    "\n",
    "Onde 𝐼 é a matriz de identidade. Portanto, temos:\n",
    "\n",
    "𝑋 × 𝑃⁻¹ = 𝑋'"
   ]
  },
  {
   "cell_type": "markdown",
   "metadata": {},
   "source": [
    "Imprima todos os três casos para alguns clientes- Os dados originais\n",
    "- O transformado\n",
    "- O invertido (recuperado)"
   ]
  },
  {
   "cell_type": "code",
   "execution_count": 41,
   "metadata": {},
   "outputs": [
    {
     "name": "stdout",
     "output_type": "stream",
     "text": [
      "Dados Originais:\n",
      "[[1.00e+00 4.10e+01 4.96e+04 1.00e+00]\n",
      " [0.00e+00 4.60e+01 3.80e+04 1.00e+00]\n",
      " [0.00e+00 2.90e+01 2.10e+04 0.00e+00]]\n",
      "\n",
      "Dados Transformados (X'):\n",
      "[[ 6359.71527314 22380.40467609 18424.09074184 46000.69669016]\n",
      " [ 4873.29406479 17160.36702982 14125.78076133 35253.45577301]\n",
      " [ 2693.11742928  9486.397744    7808.83156024 19484.86063067]]\n",
      "\n",
      "Dados Recuperados (X Reconstruído):\n",
      "[[ 1.00000000e+00  4.10000000e+01  4.96000000e+04  1.00000000e+00]\n",
      " [-3.63797881e-12  4.60000000e+01  3.80000000e+04  1.00000000e+00]\n",
      " [ 1.81898940e-12  2.90000000e+01  2.10000000e+04  0.00000000e+00]]\n"
     ]
    }
   ],
   "source": [
    "# Escolha alguns índices de clientes para visualização\n",
    "indices_para_visualizacao = [0, 1, 2]\n",
    "\n",
    "# Imprima os dados originais\n",
    "print(\"Dados Originais:\")\n",
    "print(X[indices_para_visualizacao])\n",
    "\n",
    "# Imprima os dados transformados\n",
    "print(\"\\nDados Transformados (X'):\")\n",
    "print(X_prime[indices_para_visualizacao])\n",
    "\n",
    "# Imprima os dados recuperados\n",
    "print(\"\\nDados Recuperados (X Reconstruído):\")\n",
    "print(X_reconstructed[indices_para_visualizacao])"
   ]
  },
  {
   "cell_type": "markdown",
   "metadata": {},
   "source": [
    "Você provavelmente pode ver que alguns valores não são exatamente iguais aos dos dados originais. Qual pode ser a razão disso?"
   ]
  },
  {
   "cell_type": "markdown",
   "metadata": {},
   "source": [
    "* Os erros na matriz reconstruída são erros de arredondamento devido a operações de ponto flutuante e podem ser considerados insignificantes em termos práticos. Geralmente, esses valores são próximos de zero, o que significa que a transformação foi bem-sucedida em termos de reversão."
   ]
  },
  {
   "cell_type": "markdown",
   "metadata": {},
   "source": [
    "## Provas de que a ofuscação de dados pode funcionar com a Regressão Linear"
   ]
  },
  {
   "cell_type": "markdown",
   "metadata": {},
   "source": [
    "A tarefa de regressão foi resolvida com regressão linear neste projeto. Sua próxima tarefa é provar analiticamente que o método de ofuscação fornecido não afetará a regressão linear em termos de valores preditos, ou seja, seus valores permanecerão os mesmos. Você acredita nisso? Bem, você não precisa acreditar, você deve provar isso!"
   ]
  },
  {
   "cell_type": "markdown",
   "metadata": {},
   "source": [
    "Assim, os dados são ofuscados e há $X \\ P$ em vez de apenas X agora. Consequentemente, existem outros pesos $w_P$ como\n",
    "$$\n",
    "w = (X^T X)^{-1} X^T y \\quad \\Rightarrow \\quad w_P = [(XP)^T XP]^{-1} (XP)^T y\n",
    "$$\n",
    "\n",
    "Como  $w$ e $w_P$ seriam ligados se você simplificasse a fórmula para $w_P$ acima? \n",
    "\n",
    "Quais seriam os valores previstos com $w_P$? \n",
    "\n",
    "O que isso significa para a qualidade da regressão linear se você medir com REQM?\n",
    "\n",
    "Verifique o Apêndice B Propriedades das Matrizes no final do caderno. Existem fórmulas úteis lá!\n",
    "\n",
    "Nenhum código é necessário nesta seção, apenas explicação analítica!"
   ]
  },
  {
   "cell_type": "markdown",
   "metadata": {},
   "source": [
    "**Resposta**"
   ]
  },
  {
   "cell_type": "markdown",
   "metadata": {},
   "source": [
    "1 - A relação entre os pesos da regressão linear original (𝑤) e os pesos da regressão linear com ofuscação (𝑤𝑃) é que 𝑤 é igual a uma transformação da matriz de design com ofuscação (𝑋𝑃), multiplicada pelos pesos da regressão linear com ofuscação 𝑤𝑃. Ou seja, 𝑤 = (𝑋𝑃)ᑇ𝑋𝑃𝑤𝑃. Isso significa que os pesos da regressão linear original são afetados pela matriz de design com ofuscação, mas as previsões finais permanecem as mesmas.\n",
    "\n",
    "2 - Os valores previstos com 𝑤𝑃 seriam os mesmos valores previstos com 𝑤 (pesos da regressão linear original), já que 𝑤𝑃 é uma transformação dos pesos originais 𝑤, mas as previsões finais permanecem inalteradas.\n",
    "\n",
    "3 - Isso significa que a qualidade da regressão linear, medida pelo REQM (Root Mean Squared Error), permanecerá inalterada após a ofuscação dos dados. Como os valores previstos com 𝑤𝑃 são os mesmos que os valores previstos com 𝑤 (pesos da regressão linear original), o REQM, que avalia a precisão das previsões em relação aos valores reais, não será afetado pela ofuscação. Portanto, a qualidade da regressão linear medida pelo REQM permanecerá a mesma antes e depois da ofuscação dos dados."
   ]
  },
  {
   "cell_type": "markdown",
   "metadata": {},
   "source": [
    "**Prova analítica**"
   ]
  },
  {
   "cell_type": "markdown",
   "metadata": {},
   "source": [
    "Pesos da Regressão Linear Original (𝑤):\n",
    "𝑤 = (𝑋ᵀ𝑋)⁻¹𝑋ᵀ𝑦\n",
    "\n",
    "Pesos da Regressão Linear com Ofuscação (𝑤𝑃):\n",
    "𝑤𝑃 = [(𝑋𝑃)ᵀ𝑋𝑃]⁻¹(𝑋𝑃)ᵀ𝑦\n",
    "\n",
    "Agora, vamos considerar a relação entre 𝑤 e 𝑤𝑃:\n",
    "\n",
    "Se 𝑋ᑇ for a matriz inversa de 𝑋 (ou seja, 𝑋ᑇ = (𝑋ᵀ𝑋)⁻¹), podemos reescrever a fórmula para 𝑤 da seguinte forma:\n",
    "𝑤 = 𝑋ᑇ𝑋ᵀ𝑦\n",
    "\n",
    "Agora, substituindo 𝑋ᑇ na fórmula para 𝑤𝑃, obtemos:\n",
    "𝑤𝑃 = [(𝑋𝑃)ᵀ𝑋𝑃]⁻¹(𝑋𝑃)ᵀ𝑦\n",
    "𝑤𝑃 = [(𝑋𝑃)ᵀ𝑋𝑃]⁻¹𝑋ᑃᵀ𝑋ᑃ𝑦\n",
    "\n",
    "Observamos que [(𝑋𝑃)ᵀ𝑋𝑃]⁻¹ é a matriz inversa da matriz [(𝑋𝑃)ᑇ𝑋𝑃], onde 𝑋𝑃 representa a matriz de design com ofuscação 𝑋𝑃.\n",
    "\n",
    "Portanto, a relação entre 𝑤 e 𝑤𝑃 pode ser resumida da seguinte forma:\n",
    "𝑤 = (𝑋𝑃)ᑇ𝑋𝑃𝑤𝑃\n",
    "\n",
    "Isso significa que 𝑤 (pesos da regressão linear original) é igual a (𝑋𝑃)ᑇ𝑋𝑃 (uma transformação da matriz de design com ofuscação 𝑋𝑃) multiplicada pelos pesos da regressão linear com ofuscação 𝑤𝑃.\n",
    "\n",
    "Essa simplificação demonstra como os pesos da regressão linear original e da regressão linear com ofuscação estão relacionados e como a transformação afeta a relação entre eles. No entanto, as previsões finais permanecem inalteradas após a ofuscação, pois são baseadas nas mesmas características originais, apenas após uma transformação linear.\n",
    "\n"
   ]
  },
  {
   "cell_type": "markdown",
   "metadata": {},
   "source": [
    "## Teste de regressão linear com ofuscação de dados"
   ]
  },
  {
   "cell_type": "markdown",
   "metadata": {},
   "source": [
    "Agora, vamos provar que a Regressão Linear pode funcionar computacionalmente com a transformação de ofuscação escolhida.\n",
    "Crie um procedimento ou uma classe que execute a Regressão Linear opcionalmente com a ofuscação. Você pode usar uma implementação pronta de Regressão Linear do scikit-learn ou sua própria.\n",
    "\n",
    "Execute a Regressão Linear para os dados originais e os ofuscados, compare os valores previstos e os valores da métrica $R^2$ do REQM. Há alguma diferença?"
   ]
  },
  {
   "cell_type": "markdown",
   "metadata": {},
   "source": [
    "**Procedimento**\n",
    "\n",
    "- Crie uma matriz quadrada $P$ de números aleatórios.\n",
    "- Verifique se é invertível. Caso contrário, repita o primeiro ponto até obtermos uma matriz invertível.\n",
    "- <! seu comentário aqui!>\n",
    "- Use $XP$ como a nova matriz de características"
   ]
  },
  {
   "cell_type": "code",
   "execution_count": 42,
   "metadata": {},
   "outputs": [
    {
     "name": "stdout",
     "output_type": "stream",
     "text": [
      "Resultados para dados originais:\n",
      "R²: 0.43\n",
      "REQM: 0.24\n",
      "\n",
      "Resultados para dados ofuscados:\n",
      "R²: 0.43\n",
      "REQM: 0.24\n"
     ]
    }
   ],
   "source": [
    "# Função para criar uma matriz aleatória invertível P\n",
    "def create_invertible_matrix(n):\n",
    "    while True:\n",
    "        P = np.random.rand(n, n)\n",
    "        if np.linalg.matrix_rank(P) == n:\n",
    "            return P\n",
    "\n",
    "# Função para realizar a Regressão Linear com ou sem ofuscação\n",
    "def linear_regression_with_obfuscation(X, y, obfuscate=False):\n",
    "    if obfuscate:\n",
    "        # Passo 1: Criar uma matriz aleatória invertível P\n",
    "        n_features = X.shape[1]\n",
    "        P = create_invertible_matrix(n_features)\n",
    "        \n",
    "        # Passo 2: Ofuscar os dados\n",
    "        X_obfuscated = X @ P\n",
    "        \n",
    "        # Passo 3: Treinar o modelo com os dados ofuscados\n",
    "        model = LinearRegression()\n",
    "        model.fit(X_obfuscated, y)\n",
    "        \n",
    "        # Passo 4: Prever com os dados ofuscados\n",
    "        y_pred = model.predict(X_obfuscated)\n",
    "    else:\n",
    "        # Treinar o modelo com os dados originais\n",
    "        model = LinearRegression()\n",
    "        model.fit(X, y)\n",
    "        \n",
    "        # Prever com os dados originais\n",
    "        y_pred = model.predict(X)\n",
    "    \n",
    "    # Calcular o R² e o REQM\n",
    "    r2 = r2_score(y, y_pred)\n",
    "    rmse = np.sqrt(mean_squared_error(y, y_pred))\n",
    "    \n",
    "    return r2, rmse\n",
    "\n",
    "# Separando as características e o alvo\n",
    "X = df_scaled[['age', 'gender', 'income', 'family_members']]\n",
    "y = df['insurance_benefits_received']\n",
    "\n",
    "# Executando a Regressão Linear sem ofuscação\n",
    "r2_original, rmse_original = linear_regression_with_obfuscation(X, y, obfuscate=False)\n",
    "\n",
    "# Executando a Regressão Linear com ofuscação\n",
    "r2_obfuscated, rmse_obfuscated = linear_regression_with_obfuscation(X, y, obfuscate=True)\n",
    "\n",
    "print(\"Resultados para dados originais:\")\n",
    "print(f\"R²: {r2_original:.2f}\")\n",
    "print(f\"REQM: {rmse_original:.2f}\")\n",
    "\n",
    "print(\"\\nResultados para dados ofuscados:\")\n",
    "print(f\"R²: {r2_obfuscated:.2f}\")\n",
    "print(f\"REQM: {rmse_obfuscated:.2f}\")"
   ]
  },
  {
   "cell_type": "markdown",
   "metadata": {},
   "source": [
    "# Conclusões"
   ]
  },
  {
   "cell_type": "markdown",
   "metadata": {},
   "source": [
    "**Os dados não escalados afetam o algoritmo kNN? Se sim, como isso acontece?**\n",
    "\n",
    "- Sim, os dados não escalados podem afetar o algoritmo kNN. O kNN calcula a distância entre pontos para encontrar os vizinhos mais próximos. Se os dados não forem escalados e as unidades de medida das diferentes características forem muito diferentes, características com magnitudes maiores podem dominar a distância e afetar a qualidade dos resultados. Sem o escalonamento, o algoritmo kNN não lida bem com valores inteiros distintos entre os dados, o que leva à imprecisão no cálculo dos vizinhos.\n",
    "\n",
    "**Quão semelhantes são os resultados usando a métrica de distância de Manhattan (independentemente da escalabilidade)?**\n",
    "\n",
    "- Podemos observar que os resultados usando a métrica de distância de Manhattan não são muito semelhantes entre os dados não escalados e escalados. Isso é evidenciado pelas seguintes observações: A distância dos vizinhos próximos e a diferença na distância.\n",
    "\n",
    "Observamos que o algoritmo kNN sofre grandes alterações em seus resultados do F-1 score quando usado com dados não escalados, em comparação com dados escalados.\n",
    "\n",
    "Observamos que o algoritmo de regressão linear não sofre alterações em seus resultados do REQM quando usado com dados não escalados, em comparação com dados escalados.\n",
    "\n",
    "Ofuscar os dados é um procedimento importante na montagem do projeto, é essencial esta etapa para evitar o vazamento de dados sensíveis dos usuários. Observamos que este ofuscamento, se feito da maneira correta, não permite o “acesso” a esses dados sem a matriz P, com a matriz P nós tambem conseguimos reverter o ofuscamento sem alterações significantes. Além disso, o ofuscamento não causa alterações nos resultados do modelo de regressão linear."
   ]
  },
  {
   "cell_type": "markdown",
   "metadata": {},
   "source": [
    "# Apêndices\n",
    "\n",
    "## Apêndice A: Escrevendo Fórmulas em Notebooks Jupyter"
   ]
  },
  {
   "cell_type": "markdown",
   "metadata": {},
   "source": [
    "Você pode escrever fórmulas em seu Jupyter Notebook em uma linguagem de marcação de texto fornecida por um sistema de publicação de alta qualidade chamado $\\LaTeX$ (pronuncia-se \"Lah-tech\"), e elas se parecerão com fórmulas em livros didáticos.\n",
    "Para colocar uma fórmula em um texto, coloque o cifrão ($) antes e depois do texto da fórmula, por exemplo $\\frac{1}{2} \\times \\frac{3}{2} = \\frac{3}{4}$ or $y = x^2, x \\ge 1$.\n",
    "\n",
    "Se uma fórmula deve estar em seu próprio parágrafo, coloque o cifrão duplo ($$) antes e depois do texto da fórmula, por exemplo\n",
    "\n",
    "$$\n",
    "\\bar{x} = \\frac{1}{n}\\sum_{i=1}^{n} x_i.\n",
    "$$\n",
    "\n",
    "A linguagem de marcação do [LaTeX](https://en.wikipedia.org/wiki/LaTeX) é muito popular entre as pessoas que usam fórmulas em seus artigos, livros e textos. Pode ser complexo, mas o básico é fácil. Confira esta [folha de dicas](http://tug.ctan.org/info/undergradmath/undergradmath.pdf) de duas páginas  para aprender a compor as fórmulas mais comuns."
   ]
  }
